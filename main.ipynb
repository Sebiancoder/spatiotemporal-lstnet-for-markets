{
 "cells": [
  {
   "cell_type": "markdown",
   "metadata": {},
   "source": [
    "# Implementation of a Spatiotemporal Self-Attention Based LSTNet"
   ]
  },
  {
   "cell_type": "markdown",
   "metadata": {},
   "source": [
    "## Imports"
   ]
  },
  {
   "cell_type": "code",
   "execution_count": 1,
   "metadata": {},
   "outputs": [
    {
     "name": "stdout",
     "output_type": "stream",
     "text": [
      "Using TensorFlow backend\n"
     ]
    }
   ],
   "source": [
    "import pandas as pd\n",
    "import yfinance as yf\n",
    "import tensorflow as tf\n",
    "import numpy as np\n",
    "import os\n",
    "import csv\n",
    "import keras_tuner\n",
    "from sklearn.model_selection import train_test_split, RandomizedSearchCV, GridSearchCV, RepeatedStratifiedKFold\n",
    "from scikeras.wrappers import KerasRegressor\n",
    "from data_processing import DataProcessor\n",
    "from datetime import datetime\n",
    "import matplotlib.pyplot as plt\n",
    "\n",
    "#models\n",
    "from models.simple_lstm import SimpleLSTM\n",
    "from models.LSTNet import LSTNet\n",
    "from models.simple_tcn import SimpleTCN\n",
    "from models.mlp import MLP\n",
    "from models.last_value_mlp import LastValueMLP"
   ]
  },
  {
   "cell_type": "markdown",
   "metadata": {},
   "source": [
    "## Data Import and formatting\n",
    "\n",
    "We are looking to work with multivariate time series data, which will be given to us as a 2D shape: # of timesteps x number of variables. We then need to format this data so that we split it into a train and test set, and use a sliding window approach to divide it into sequences. Then take the last x timesteps in every sequence and make those the labels. We will also of course normalize the data with z-score standardization."
   ]
  },
  {
   "cell_type": "markdown",
   "metadata": {},
   "source": [
    "First we will load data. Change the below code block to adjust for data source. Included in this code block should be any variable-specific feature extraction that needs to be down, such as calculating returns from price, etc"
   ]
  },
  {
   "cell_type": "code",
   "execution_count": 2,
   "metadata": {},
   "outputs": [
    {
     "name": "stdout",
     "output_type": "stream",
     "text": [
      "<class 'pandas.core.frame.DataFrame'>\n",
      "RangeIndex: 1825 entries, 0 to 1824\n",
      "Data columns (total 1 columns):\n",
      " #   Column    Non-Null Count  Dtype  \n",
      "---  ------    --------------  -----  \n",
      " 0   Soybeans  1825 non-null   float64\n",
      "dtypes: float64(1)\n",
      "memory usage: 14.4 KB\n"
     ]
    }
   ],
   "source": [
    "raw_data = pd.read_csv(\"DATA/mergeCSVs/output.csv\")\n",
    "\n",
    "#drop date\n",
    "raw_data.drop([\"Date\"], inplace=True, axis=1)\n",
    "\n",
    "#set dataset name for logging\n",
    "dataset_name = \"futures_assortment\"\n",
    "\n",
    "#display info about loaded data\n",
    "raw_data.info()\n",
    "raw_data.dropna(inplace=True)\n",
    "\n",
    "#we need to calculate returns, as this is more useful then the actual price. (price is a function of returns and prev price, so if we know returns we can always calculate price)\n",
    "#raw_data = DataProcessor.calc_log_returns(raw_data)"
   ]
  },
  {
   "cell_type": "markdown",
   "metadata": {},
   "source": [
    "Then we do a train/test split, create sequences with sliding window, normalize data, and designate labels(what we are trying to predict). The length of each sequence is set by SEQ_LEN.\n",
    "\n",
    "One question here is whether to normalize the target values. In other words, should we normalize data and then split the time series in to features and labels, or split first and then only normalize features. From past work, ~~I have seen better Mean Average Percent Error (MAPE) by doing the former, but intuition says it shouldn't matter.~~ From some reading, I have learned that normalizing all data, and not just the features, is a form of train-test contamination, as it allows some information from the test set to be encoded in the train set. Only features should be normalized. \n",
    "\n",
    "We also need to deal with missing values. For now, we will just drop the rows (timesteps) that have missing values but I think we should further consider the effects of this later down the line."
   ]
  },
  {
   "cell_type": "code",
   "execution_count": 3,
   "metadata": {},
   "outputs": [],
   "source": [
    "SEQ_LEN = 25\n",
    "\n",
    "train_data, valtest_data = train_test_split(raw_data, test_size=0.3, shuffle=False) #it is imporant the data is not shuffled here, since this is time series data\n",
    "\n",
    "train_data.dropna(inplace=True)\n",
    "valtest_data.dropna(inplace=True)\n",
    "\n",
    "val_data, test_data = train_test_split(valtest_data, test_size=0.5, shuffle=False)\n",
    "\n",
    "train_sequences = DataProcessor.sliding_window_sequence(train_data, SEQ_LEN)\n",
    "val_sequences = DataProcessor.sliding_window_sequence(val_data, SEQ_LEN)\n",
    "\n",
    "train_x, train_y = DataProcessor.sequence_target_split(train_sequences, target_size=1)\n",
    "val_x, val_y = DataProcessor.sequence_target_split(val_sequences, target_size=1)\n",
    "\n",
    "train_x = DataProcessor.zscore_standardization(train_x)\n",
    "val_x = DataProcessor.zscore_standardization(val_x)"
   ]
  },
  {
   "cell_type": "markdown",
   "metadata": {},
   "source": [
    "We then need to convert this multiIndex DataFrame we have into a 3 dimensional numpy to feed into the model. Each of x_train, x_test, y_train, y_test will have the 3D shape num_sequences x timesteps_per_sequence x num_variables. For our y-values, we will only predict one timestep in the future for now, for simplicity's sake."
   ]
  },
  {
   "cell_type": "code",
   "execution_count": 4,
   "metadata": {},
   "outputs": [
    {
     "name": "stdout",
     "output_type": "stream",
     "text": [
      "(1253, 24)\n",
      "(250, 24)\n",
      "(1253,)\n",
      "(250,)\n"
     ]
    }
   ],
   "source": [
    "x_train = DataProcessor.fold_sequences(train_x)\n",
    "x_val = DataProcessor.fold_sequences(val_x)\n",
    "y_train = DataProcessor.fold_sequences(train_y)\n",
    "y_val = DataProcessor.fold_sequences(val_y)\n",
    "\n",
    "print(x_train.shape)\n",
    "print(x_val.shape)\n",
    "print(y_train.shape)\n",
    "print(y_val.shape)"
   ]
  },
  {
   "cell_type": "markdown",
   "metadata": {},
   "source": [
    "We also likely only want to predict one of the time series variables, so we can select which one we want that to be. In the code block below, choose the index of the variable to be selected."
   ]
  },
  {
   "cell_type": "code",
   "execution_count": 5,
   "metadata": {},
   "outputs": [
    {
     "name": "stdout",
     "output_type": "stream",
     "text": [
      "rrr\n"
     ]
    }
   ],
   "source": [
    "Y_VAR = 0   #index of variable to be predicted\n",
    "\n",
    "if len(y_train.shape) == 1:\n",
    "    print(\"rrr\")\n",
    "\n",
    "    x_train = x_train.reshape((x_train.shape[0], x_train.shape[1], 1))\n",
    "    x_val = x_val.reshape((x_val.shape[0], x_val.shape[1], 1))\n",
    "    y_train = y_train.reshape((y_train.shape[0], 1))\n",
    "    y_val = y_val.reshape((y_val.shape[0], 1))\n",
    "\n",
    "y_train = y_train[:,Y_VAR]\n",
    "y_val = y_val[:,Y_VAR]"
   ]
  },
  {
   "cell_type": "markdown",
   "metadata": {},
   "source": [
    "## Model Initialization"
   ]
  },
  {
   "cell_type": "markdown",
   "metadata": {},
   "source": [
    "We create a short function to build the model, and set it up for a training run."
   ]
  },
  {
   "cell_type": "code",
   "execution_count": 6,
   "metadata": {},
   "outputs": [],
   "source": [
    "def build_model(hp):\n",
    "\n",
    "    #change the model to run here\n",
    "    model = SimpleLSTM(hp)\n",
    "    model.build(x_train.shape)\n",
    "\n",
    "    model.compile(\n",
    "        optimizer=tf.keras.optimizers.Adam(learning_rate=0.05),\n",
    "        loss=tf.keras.losses.MeanSquaredError(),\n",
    "        metrics=[tf.keras.metrics.mean_absolute_error] \n",
    "    )\n",
    "\n",
    "    return model"
   ]
  },
  {
   "cell_type": "markdown",
   "metadata": {},
   "source": [
    "## Hyperparameter Optimization\n",
    "\n",
    "Optionally, We will run a hyperparameter optimization on the model to find the best hyperparameters."
   ]
  },
  {
   "cell_type": "code",
   "execution_count": 7,
   "metadata": {},
   "outputs": [
    {
     "name": "stdout",
     "output_type": "stream",
     "text": [
      "WARNING:tensorflow:Layer lstm will not use cuDNN kernels since it doesn't meet the criteria. It will use a generic GPU kernel as fallback when running on GPU.\n"
     ]
    }
   ],
   "source": [
    "tuner = keras_tuner.RandomSearch(\n",
    "    hypermodel=build_model,\n",
    "    objective=\"val_mean_absolute_error\",\n",
    "    max_trials=100,\n",
    "    executions_per_trial=1,\n",
    "    overwrite=True,\n",
    "    directory=\"HP_OPTIMIZATION_LOGS\"\n",
    ")\n",
    "\n",
    "hparam_optimize = False #change to false if want to use default hp\n",
    "\n",
    "if hparam_optimize:\n",
    "\n",
    "    print(\"Running hyperparameter optimization\")\n",
    "    tuner.search_space_summary()\n",
    "\n",
    "    tuner.search(x_train, y_train, epochs=5, validation_data=(x_val, y_val))\n",
    "\n",
    "    hparams = tuner.get_best_hyperparameters(1)[0]\n",
    "\n",
    "else:\n",
    "\n",
    "    hparams = keras_tuner.HyperParameters()"
   ]
  },
  {
   "cell_type": "markdown",
   "metadata": {},
   "source": [
    "## Training"
   ]
  },
  {
   "cell_type": "markdown",
   "metadata": {},
   "source": [
    "Now that we have our data properly formatted and hyperparameters decided, we will reinitialize the model with the chosen hyperparameters, train it, and test it. Please change the name of the model to be appropriate, as this name is used as a filename for saving the model."
   ]
  },
  {
   "cell_type": "code",
   "execution_count": 8,
   "metadata": {},
   "outputs": [
    {
     "name": "stdout",
     "output_type": "stream",
     "text": [
      "WARNING:tensorflow:Layer lstm_1 will not use cuDNN kernels since it doesn't meet the criteria. It will use a generic GPU kernel as fallback when running on GPU.\n",
      "Model: \"simpleLSTM\"\n",
      "_________________________________________________________________\n",
      " Layer (type)                Output Shape              Param #   \n",
      "=================================================================\n",
      " dense_1 (Dense)             multiple                  17        \n",
      "                                                                 \n",
      " lstm_1 (LSTM)               multiple                  1152      \n",
      "                                                                 \n",
      "=================================================================\n",
      "Total params: 1,169\n",
      "Trainable params: 1,169\n",
      "Non-trainable params: 0\n",
      "_________________________________________________________________\n",
      "None\n",
      "Epoch 1/20\n",
      "314/314 [==============================] - ETA: 0s - loss: 1306939.6250 - mean_absolute_error: 1117.7439\n",
      "Epoch 1: saving model to SAVED_MODELS/2023-11-09-15-45-51\\simpleLSTM.ckpt\n",
      "314/314 [==============================] - 99s 307ms/step - loss: 1306939.6250 - mean_absolute_error: 1117.7439 - val_loss: 612845.8125 - val_mean_absolute_error: 778.6822\n",
      "Epoch 2/20\n",
      "314/314 [==============================] - ETA: 0s - loss: 981937.9375 - mean_absolute_error: 978.5895\n",
      "Epoch 2: saving model to SAVED_MODELS/2023-11-09-15-45-51\\simpleLSTM.ckpt\n",
      "314/314 [==============================] - 97s 309ms/step - loss: 981937.9375 - mean_absolute_error: 978.5895 - val_loss: 358563.7500 - val_mean_absolute_error: 582.1831\n",
      "Epoch 3/20\n",
      "314/314 [==============================] - ETA: 0s - loss: 741838.1250 - mean_absolute_error: 852.8637\n",
      "Epoch 3: saving model to SAVED_MODELS/2023-11-09-15-45-51\\simpleLSTM.ckpt\n",
      "314/314 [==============================] - 96s 306ms/step - loss: 741838.1250 - mean_absolute_error: 852.8637 - val_loss: 208832.2344 - val_mean_absolute_error: 411.2634\n",
      "Epoch 4/20\n",
      "314/314 [==============================] - ETA: 0s - loss: 569047.6250 - mean_absolute_error: 740.2360\n",
      "Epoch 4: saving model to SAVED_MODELS/2023-11-09-15-45-51\\simpleLSTM.ckpt\n",
      "314/314 [==============================] - 96s 305ms/step - loss: 569047.6250 - mean_absolute_error: 740.2360 - val_loss: 134265.5938 - val_mean_absolute_error: 262.6411\n",
      "Epoch 5/20\n",
      "314/314 [==============================] - ETA: 0s - loss: 449614.5938 - mean_absolute_error: 641.6872\n",
      "Epoch 5: saving model to SAVED_MODELS/2023-11-09-15-45-51\\simpleLSTM.ckpt\n",
      "314/314 [==============================] - 95s 302ms/step - loss: 449614.5938 - mean_absolute_error: 641.6872 - val_loss: 108618.1094 - val_mean_absolute_error: 154.0438\n",
      "Epoch 6/20\n",
      "314/314 [==============================] - ETA: 0s - loss: 370451.5625 - mean_absolute_error: 556.3890\n",
      "Epoch 6: saving model to SAVED_MODELS/2023-11-09-15-45-51\\simpleLSTM.ckpt\n",
      "314/314 [==============================] - 96s 304ms/step - loss: 370451.5625 - mean_absolute_error: 556.3890 - val_loss: 132066.6406 - val_mean_absolute_error: 239.1154\n",
      "Epoch 7/20\n",
      "314/314 [==============================] - ETA: 0s - loss: 321853.6875 - mean_absolute_error: 490.0829\n",
      "Epoch 7: saving model to SAVED_MODELS/2023-11-09-15-45-51\\simpleLSTM.ckpt\n",
      "314/314 [==============================] - 95s 303ms/step - loss: 321853.6875 - mean_absolute_error: 490.0829 - val_loss: 156970.4375 - val_mean_absolute_error: 320.8833\n",
      "Epoch 8/20\n",
      "314/314 [==============================] - ETA: 0s - loss: 292384.2188 - mean_absolute_error: 440.4763\n",
      "Epoch 8: saving model to SAVED_MODELS/2023-11-09-15-45-51\\simpleLSTM.ckpt\n",
      "314/314 [==============================] - 96s 306ms/step - loss: 292384.2188 - mean_absolute_error: 440.4763 - val_loss: 190327.0938 - val_mean_absolute_error: 385.8839\n",
      "Epoch 9/20\n",
      "314/314 [==============================] - ETA: 0s - loss: 275159.2812 - mean_absolute_error: 409.8256\n",
      "Epoch 9: saving model to SAVED_MODELS/2023-11-09-15-45-51\\simpleLSTM.ckpt\n",
      "314/314 [==============================] - 95s 303ms/step - loss: 275159.2812 - mean_absolute_error: 409.8256 - val_loss: 218587.3281 - val_mean_absolute_error: 431.1521\n",
      "Epoch 10/20\n",
      "314/314 [==============================] - ETA: 0s - loss: 264522.8125 - mean_absolute_error: 393.7058\n",
      "Epoch 10: saving model to SAVED_MODELS/2023-11-09-15-45-51\\simpleLSTM.ckpt\n",
      "314/314 [==============================] - 96s 305ms/step - loss: 264522.8125 - mean_absolute_error: 393.7058 - val_loss: 238541.7812 - val_mean_absolute_error: 459.6823\n",
      "Epoch 11/20\n",
      "314/314 [==============================] - ETA: 0s - loss: 257228.5938 - mean_absolute_error: 386.3137\n",
      "Epoch 11: saving model to SAVED_MODELS/2023-11-09-15-45-51\\simpleLSTM.ckpt\n",
      "314/314 [==============================] - 97s 310ms/step - loss: 257228.5938 - mean_absolute_error: 386.3137 - val_loss: 250532.2031 - val_mean_absolute_error: 475.9285\n",
      "Epoch 12/20\n",
      "314/314 [==============================] - ETA: 0s - loss: 249757.2188 - mean_absolute_error: 381.1457\n",
      "Epoch 12: saving model to SAVED_MODELS/2023-11-09-15-45-51\\simpleLSTM.ckpt\n",
      "314/314 [==============================] - 97s 308ms/step - loss: 249757.2188 - mean_absolute_error: 381.1457 - val_loss: 255606.3438 - val_mean_absolute_error: 483.2039\n",
      "Epoch 13/20\n",
      "314/314 [==============================] - ETA: 0s - loss: 243034.4531 - mean_absolute_error: 377.0249\n",
      "Epoch 13: saving model to SAVED_MODELS/2023-11-09-15-45-51\\simpleLSTM.ckpt\n",
      "314/314 [==============================] - 96s 305ms/step - loss: 243034.4531 - mean_absolute_error: 377.0249 - val_loss: 255677.9062 - val_mean_absolute_error: 484.2972\n",
      "Epoch 14/20\n",
      "314/314 [==============================] - ETA: 0s - loss: 279721.2812 - mean_absolute_error: 405.8386\n",
      "Epoch 14: saving model to SAVED_MODELS/2023-11-09-15-45-51\\simpleLSTM.ckpt\n",
      "314/314 [==============================] - 96s 306ms/step - loss: 279721.2812 - mean_absolute_error: 405.8386 - val_loss: 525104.1875 - val_mean_absolute_error: 699.7189\n",
      "Epoch 15/20\n",
      "314/314 [==============================] - ETA: 0s - loss: 259801.1562 - mean_absolute_error: 387.6802\n",
      "Epoch 15: saving model to SAVED_MODELS/2023-11-09-15-45-51\\simpleLSTM.ckpt\n",
      "314/314 [==============================] - 96s 306ms/step - loss: 259801.1562 - mean_absolute_error: 387.6802 - val_loss: 414130.8125 - val_mean_absolute_error: 609.2815\n",
      "Epoch 16/20\n",
      "314/314 [==============================] - ETA: 0s - loss: 257584.5312 - mean_absolute_error: 381.7702\n",
      "Epoch 16: saving model to SAVED_MODELS/2023-11-09-15-45-51\\simpleLSTM.ckpt\n",
      "314/314 [==============================] - 96s 306ms/step - loss: 257584.5312 - mean_absolute_error: 381.7702 - val_loss: 411062.4375 - val_mean_absolute_error: 613.6738\n",
      "Epoch 17/20\n",
      "314/314 [==============================] - ETA: 0s - loss: 244029.4688 - mean_absolute_error: 376.7789\n",
      "Epoch 17: saving model to SAVED_MODELS/2023-11-09-15-45-51\\simpleLSTM.ckpt\n",
      "314/314 [==============================] - 96s 306ms/step - loss: 244029.4688 - mean_absolute_error: 376.7789 - val_loss: 284899.0938 - val_mean_absolute_error: 491.3408\n",
      "Epoch 18/20\n",
      "314/314 [==============================] - ETA: 0s - loss: 200811.2812 - mean_absolute_error: 332.7732\n",
      "Epoch 18: saving model to SAVED_MODELS/2023-11-09-15-45-51\\simpleLSTM.ckpt\n",
      "314/314 [==============================] - 96s 305ms/step - loss: 200811.2812 - mean_absolute_error: 332.7732 - val_loss: 279934.7812 - val_mean_absolute_error: 487.8720\n",
      "Epoch 19/20\n",
      "314/314 [==============================] - ETA: 0s - loss: 192376.1562 - mean_absolute_error: 324.1300\n",
      "Epoch 19: saving model to SAVED_MODELS/2023-11-09-15-45-51\\simpleLSTM.ckpt\n",
      "314/314 [==============================] - 95s 304ms/step - loss: 192376.1562 - mean_absolute_error: 324.1300 - val_loss: 291114.4375 - val_mean_absolute_error: 506.1158\n",
      "Epoch 20/20\n",
      "314/314 [==============================] - ETA: 0s - loss: 186038.1094 - mean_absolute_error: 318.6914\n",
      "Epoch 20: saving model to SAVED_MODELS/2023-11-09-15-45-51\\simpleLSTM.ckpt\n",
      "314/314 [==============================] - 92s 292ms/step - loss: 186038.1094 - mean_absolute_error: 318.6914 - val_loss: 299524.5312 - val_mean_absolute_error: 518.2320\n"
     ]
    }
   ],
   "source": [
    "model = build_model(hparams)\n",
    "print(model.summary())\n",
    "\n",
    "model_path = \"SAVED_MODELS/{ts}\".format(ts=datetime.now()).replace(\" \", \"-\").replace(\":\", \"-\").split(\".\")[0]\n",
    "os.mkdir(model_path)\n",
    "\n",
    "checkpoint_path = \"{modelPath}/{mn}.ckpt\".format(modelPath=model_path, mn=model.name)\n",
    "\n",
    "cp_callback = tf.keras.callbacks.ModelCheckpoint(filepath=checkpoint_path, save_weights_only=True, verbose=1)\n",
    "\n",
    "EPOCHS = 20\n",
    "BATCH_SIZE = 4\n",
    "\n",
    "#train\n",
    "train_hist = model.fit(\n",
    "    x=x_train,\n",
    "    y=y_train,\n",
    "    epochs=EPOCHS,\n",
    "    validation_data=(x_val, y_val),\n",
    "    batch_size=BATCH_SIZE,\n",
    "    callbacks=[cp_callback],\n",
    "    shuffle=True\n",
    ")\n",
    "\n",
    "#write to training log\n",
    "log_entry = [\n",
    "    dataset_name,\n",
    "    model.name,\n",
    "    model_path,\n",
    "    SEQ_LEN,\n",
    "    EPOCHS,\n",
    "    BATCH_SIZE,\n",
    "    train_hist.history[\"val_mean_absolute_error\"][-1]\n",
    "]\n",
    "\n",
    "with open('SAVED_MODELS/training_log.csv', 'a', newline='') as file:\n",
    "    writer = csv.writer(file)\n",
    "    writer.writerow(log_entry)"
   ]
  },
  {
   "cell_type": "markdown",
   "metadata": {},
   "source": []
  },
  {
   "cell_type": "markdown",
   "metadata": {},
   "source": [
    "## Testing\n",
    "\n",
    "The below code is for testing and visualization."
   ]
  },
  {
   "cell_type": "code",
   "execution_count": 9,
   "metadata": {},
   "outputs": [
    {
     "name": "stdout",
     "output_type": "stream",
     "text": [
      "rrr\n",
      "63/63 [==============================] - 2s 28ms/step - loss: 301904.8750 - mean_absolute_error: 532.7326\n",
      "[301904.875, 532.7326049804688]\n",
      "8/8 [==============================] - 1s 35ms/step\n"
     ]
    },
    {
     "data": {
      "image/png": "[encoded data removed]",
      "text/plain": [
       "<Figure size 640x480 with 1 Axes>"
      ]
     },
     "metadata": {},
     "output_type": "display_data"
    }
   ],
   "source": [
    "#make sequences, x/y split, normalize, and fold\n",
    "\"\"\" tdx, tdy = DataProcessor.sequence_target_split(DataProcessor.sliding_window_sequence(val_data, SEQ_LEN), target_size=1)\n",
    "tdx = DataProcessor.fold_sequences(DataProcessor.zscore_standardization(tdx))\n",
    "tdy = DataProcessor.fold_sequences(tdy) \"\"\"\n",
    "\n",
    "tdx, tdy = DataProcessor.sequence_target_split(DataProcessor.sliding_window_sequence(test_data, SEQ_LEN), target_size=1)\n",
    "tdx = DataProcessor.zscore_standardization(tdx)\n",
    "\n",
    "tdx = DataProcessor.fold_sequences(tdx)\n",
    "tdy = DataProcessor.fold_sequences(tdy)\n",
    "\n",
    "if len(tdy.shape) == 1:\n",
    "    print(\"rrr\")\n",
    "\n",
    "    tdx = tdx.reshape((tdx.shape[0], tdx.shape[1], 1))\n",
    "    tdy = tdy.reshape((tdy.shape[0], 1))\n",
    "\n",
    "tdy = tdy[:,Y_VAR]\n",
    "\n",
    "# evaluate model on the test set\n",
    "print(model.evaluate(tdx, tdy, batch_size=BATCH_SIZE))\n",
    "\n",
    "plt.plot(np.arange(0, tdy.shape[0]), tdy, 'green')   #actual data\n",
    "plt.plot(np.arange(0, tdx.shape[0]), model.predict(tdx).reshape(tdx.shape[0]), 'blue')    #predicted data\n",
    "plt.title(model_path)\n",
    "\n",
    "plt.savefig('SAVED_MODELS/model_test_visualizations/{mi}.png'.format(mi=model.name + \"_\" + model_path.split(\"/\")[1]))\n",
    "plt.show()"
   ]
  }
 ],
 "metadata": {
  "kernelspec": {
   "display_name": "Python 3",
   "language": "python",
   "name": "python3"
  },
  "language_info": {
   "codemirror_mode": {
    "name": "ipython",
    "version": 3
   },
   "file_extension": ".py",
   "mimetype": "text/x-python",
   "name": "python",
   "nbconvert_exporter": "python",
   "pygments_lexer": "ipython3",
   "version": "3.10.0"
  },
  "orig_nbformat": 4
 },
 "nbformat": 4,
 "nbformat_minor": 2
}
