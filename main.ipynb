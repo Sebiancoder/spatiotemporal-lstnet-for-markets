{
 "cells": [
  {
   "cell_type": "markdown",
   "metadata": {},
   "source": [
    "# Implementation of a Spatiotemporal Self-Attention Based LSTNet"
   ]
  },
  {
   "cell_type": "markdown",
   "metadata": {},
   "source": [
    "## Imports"
   ]
  },
  {
   "cell_type": "code",
   "execution_count": 1,
   "metadata": {},
   "outputs": [
    {
     "name": "stdout",
     "output_type": "stream",
     "text": [
      "Using TensorFlow backend\n"
     ]
    }
   ],
   "source": [
    "import pandas as pd\n",
    "import yfinance as yf\n",
    "import tensorflow as tf\n",
    "import numpy as np\n",
    "import os\n",
    "import csv\n",
    "import keras_tuner\n",
    "from sklearn.model_selection import train_test_split, RandomizedSearchCV, GridSearchCV, RepeatedStratifiedKFold\n",
    "from scikeras.wrappers import KerasRegressor\n",
    "from data_processing import DataProcessor\n",
    "from datetime import datetime\n",
    "import matplotlib.pyplot as plt\n",
    "\n",
    "#models\n",
    "from models.simple_lstm import SimpleLSTM\n",
    "from models.LSTNet import LSTNet\n",
    "from models.simple_tcn import SimpleTCN\n",
    "from models.mlp import MLP\n",
    "from models.last_value_mlp import LastValueMLP"
   ]
  },
  {
   "cell_type": "markdown",
   "metadata": {},
   "source": [
    "## Data Import and formatting\n",
    "\n",
    "We are looking to work with multivariate time series data, which will be given to us as a 2D shape: # of timesteps x number of variables. We then need to format this data so that we split it into a train and test set, and use a sliding window approach to divide it into sequences. Then take the last x timesteps in every sequence and make those the labels. We will also of course normalize the data with z-score standardization."
   ]
  },
  {
   "cell_type": "markdown",
   "metadata": {},
   "source": [
    "First we will load data. Change the below code block to adjust for data source. Included in this code block should be any variable-specific feature extraction that needs to be down, such as calculating returns from price, etc"
   ]
  },
  {
   "cell_type": "code",
   "execution_count": 2,
   "metadata": {},
   "outputs": [
    {
     "name": "stdout",
     "output_type": "stream",
     "text": [
      "<class 'pandas.core.frame.DataFrame'>\n",
      "RangeIndex: 1825 entries, 0 to 1824\n",
      "Data columns (total 5 columns):\n",
      " #   Column      Non-Null Count  Dtype  \n",
      "---  ------      --------------  -----  \n",
      " 0   Rapeseed    1825 non-null   float64\n",
      " 1   Corn        1825 non-null   float64\n",
      " 2   Soybeans    1825 non-null   float64\n",
      " 3   What        1825 non-null   float64\n",
      " 4   Castorseed  1825 non-null   float64\n",
      "dtypes: float64(5)\n",
      "memory usage: 71.4 KB\n"
     ]
    }
   ],
   "source": [
    "raw_data = pd.read_csv(\"DATA/mergeCSVs/output.csv\")\n",
    "\n",
    "raw_data.drop(\"Date\", inplace=True, axis=1)\n",
    "\n",
    "#set dataset name for logging\n",
    "dataset_name = \"futures_assortment\"\n",
    "\n",
    "#display info about loaded data\n",
    "raw_data.info()\n",
    "raw_data.dropna(inplace=True)\n",
    "\n",
    "#we need to calculate returns, as this is more useful then the actual price. (price is a function of returns and prev price, so if we know returns we can always calculate price)\n",
    "#raw_data = DataProcessor.calc_log_returns(raw_data)"
   ]
  },
  {
   "cell_type": "markdown",
   "metadata": {},
   "source": [
    "Then we do a train/test split, create sequences with sliding window, normalize data, and designate labels(what we are trying to predict). The length of each sequence is set by SEQ_LEN.\n",
    "\n",
    "One question here is whether to normalize the target values. In other words, should we normalize data and then split the time series in to features and labels, or split first and then only normalize features. From past work, ~~I have seen better Mean Average Percent Error (MAPE) by doing the former, but intuition says it shouldn't matter.~~ From some reading, I have learned that normalizing all data, and not just the features, is a form of train-test contamination, as it allows some information from the test set to be encoded in the train set. Only features should be normalized. \n",
    "\n",
    "We also need to deal with missing values. For now, we will just drop the rows (timesteps) that have missing values but I think we should further consider the effects of this later down the line."
   ]
  },
  {
   "cell_type": "code",
   "execution_count": 3,
   "metadata": {},
   "outputs": [],
   "source": [
    "SEQ_LEN = 25\n",
    "\n",
    "train_data, valtest_data = train_test_split(raw_data, test_size=0.3, shuffle=False) #it is imporant the data is not shuffled here, since this is time series data\n",
    "\n",
    "train_data.dropna(inplace=True)\n",
    "valtest_data.dropna(inplace=True)\n",
    "\n",
    "val_data, test_data = train_test_split(valtest_data, test_size=0.5, shuffle=False)\n",
    "\n",
    "train_sequences = DataProcessor.sliding_window_sequence(train_data, SEQ_LEN)\n",
    "val_sequences = DataProcessor.sliding_window_sequence(val_data, SEQ_LEN)\n",
    "\n",
    "train_x, train_y = DataProcessor.sequence_target_split(train_sequences, target_size=1)\n",
    "val_x, val_y = DataProcessor.sequence_target_split(val_sequences, target_size=1)\n",
    "\n",
    "train_x = DataProcessor.zscore_standardization(train_x)\n",
    "val_x = DataProcessor.zscore_standardization(val_x)"
   ]
  },
  {
   "cell_type": "markdown",
   "metadata": {},
   "source": [
    "We then need to convert this multiIndex DataFrame we have into a 3 dimensional numpy to feed into the model. Each of x_train, x_test, y_train, y_test will have the 3D shape num_sequences x timesteps_per_sequence x num_variables. For our y-values, we will only predict one timestep in the future for now, for simplicity's sake."
   ]
  },
  {
   "cell_type": "code",
   "execution_count": 4,
   "metadata": {},
   "outputs": [
    {
     "name": "stdout",
     "output_type": "stream",
     "text": [
      "(1253, 24, 5)\n",
      "(250, 24, 5)\n",
      "(1253, 5)\n",
      "(250, 5)\n"
     ]
    }
   ],
   "source": [
    "x_train = DataProcessor.fold_sequences(train_x)\n",
    "x_val = DataProcessor.fold_sequences(val_x)\n",
    "y_train = DataProcessor.fold_sequences(train_y)\n",
    "y_val = DataProcessor.fold_sequences(val_y)\n",
    "\n",
    "print(x_train.shape)\n",
    "print(x_val.shape)\n",
    "print(y_train.shape)\n",
    "print(y_val.shape)"
   ]
  },
  {
   "cell_type": "markdown",
   "metadata": {},
   "source": [
    "We also likely only want to predict one of the time series variables, so we can select which one we want that to be. In the code block below, choose the index of the variable to be selected."
   ]
  },
  {
   "cell_type": "code",
   "execution_count": 5,
   "metadata": {},
   "outputs": [],
   "source": [
    "Y_VAR = 1   #index of variable to be predicted\n",
    "\n",
    "y_train = y_train[:,Y_VAR]\n",
    "y_val = y_val[:,Y_VAR]"
   ]
  },
  {
   "cell_type": "markdown",
   "metadata": {},
   "source": [
    "## Model Initialization"
   ]
  },
  {
   "cell_type": "markdown",
   "metadata": {},
   "source": [
    "We create a short function to build the model, and set it up for a training run."
   ]
  },
  {
   "cell_type": "code",
   "execution_count": 6,
   "metadata": {},
   "outputs": [],
   "source": [
    "def build_model(hp):\n",
    "\n",
    "    #change the model to run here\n",
    "    model = SimpleLSTM(hp)\n",
    "    model.build(x_train.shape)\n",
    "\n",
    "    model.compile(\n",
    "        optimizer=tf.keras.optimizers.Adam(learning_rate=0.005),\n",
    "        loss=tf.keras.losses.MeanSquaredError(),\n",
    "        metrics=[tf.keras.metrics.mean_absolute_error] \n",
    "    )\n",
    "\n",
    "    return model"
   ]
  },
  {
   "cell_type": "markdown",
   "metadata": {},
   "source": [
    "## Hyperparameter Optimization\n",
    "\n",
    "Optionally, We will run a hyperparameter optimization on the model to find the best hyperparameters."
   ]
  },
  {
   "cell_type": "code",
   "execution_count": 7,
   "metadata": {},
   "outputs": [
    {
     "name": "stdout",
     "output_type": "stream",
     "text": [
      "WARNING:tensorflow:Layer lstm will not use cuDNN kernels since it doesn't meet the criteria. It will use a generic GPU kernel as fallback when running on GPU.\n",
      "WARNING:tensorflow:Layer lstm_1 will not use cuDNN kernels since it doesn't meet the criteria. It will use a generic GPU kernel as fallback when running on GPU.\n"
     ]
    }
   ],
   "source": [
    "tuner = keras_tuner.RandomSearch(\n",
    "    hypermodel=build_model,\n",
    "    objective=\"val_mean_absolute_error\",\n",
    "    max_trials=100,\n",
    "    executions_per_trial=1,\n",
    "    overwrite=True,\n",
    "    directory=\"HP_OPTIMIZATION_LOGS\"\n",
    ")\n",
    "\n",
    "hparam_optimize = False #change to false if want to use default hp\n",
    "\n",
    "if hparam_optimize:\n",
    "\n",
    "    print(\"Running hyperparameter optimization\")\n",
    "    tuner.search_space_summary()\n",
    "\n",
    "    tuner.search(x_train, y_train, epochs=5, validation_data=(x_val, y_val))\n",
    "\n",
    "    hparams = tuner.get_best_hyperparameters(1)[0]\n",
    "\n",
    "else:\n",
    "\n",
    "    hparams = keras_tuner.HyperParameters()"
   ]
  },
  {
   "cell_type": "markdown",
   "metadata": {},
   "source": [
    "## Training"
   ]
  },
  {
   "cell_type": "markdown",
   "metadata": {},
   "source": [
    "Now that we have our data properly formatted and hyperparameters decided, we will reinitialize the model with the chosen hyperparameters, train it, and test it. Please change the name of the model to be appropriate, as this name is used as a filename for saving the model."
   ]
  },
  {
   "cell_type": "code",
   "execution_count": 8,
   "metadata": {},
   "outputs": [
    {
     "name": "stdout",
     "output_type": "stream",
     "text": [
      "WARNING:tensorflow:Layer lstm_2 will not use cuDNN kernels since it doesn't meet the criteria. It will use a generic GPU kernel as fallback when running on GPU.\n",
      "WARNING:tensorflow:Layer lstm_3 will not use cuDNN kernels since it doesn't meet the criteria. It will use a generic GPU kernel as fallback when running on GPU.\n",
      "Model: \"simpleLSTM\"\n",
      "_________________________________________________________________\n",
      " Layer (type)                Output Shape              Param #   \n",
      "=================================================================\n",
      " dense_1 (Dense)             multiple                  129       \n",
      "                                                                 \n",
      " lstm_2 (LSTM)               multiple                  131584    \n",
      "                                                                 \n",
      " lstm_3 (LSTM)               multiple                  68608     \n",
      "                                                                 \n",
      "=================================================================\n",
      "Total params: 200,321\n",
      "Trainable params: 200,321\n",
      "Non-trainable params: 0\n",
      "_________________________________________________________________\n",
      "None\n",
      "Epoch 1/5\n",
      "314/314 [==============================] - ETA: 0s - loss: 245166.5625 - mean_absolute_error: 471.0208\n",
      "Epoch 1: saving model to SAVED_MODELS/2023-11-08-22-49-08\\simpleLSTM.ckpt\n",
      "314/314 [==============================] - 143s 442ms/step - loss: 245166.5625 - mean_absolute_error: 471.0208 - val_loss: 70810.4219 - val_mean_absolute_error: 262.0427\n",
      "Epoch 2/5\n",
      "314/314 [==============================] - ETA: 0s - loss: 120393.3359 - mean_absolute_error: 296.1069\n",
      "Epoch 2: saving model to SAVED_MODELS/2023-11-08-22-49-08\\simpleLSTM.ckpt\n",
      "314/314 [==============================] - 141s 449ms/step - loss: 120393.3359 - mean_absolute_error: 296.1069 - val_loss: 9779.0293 - val_mean_absolute_error: 97.0826\n",
      "Epoch 3/5\n",
      "314/314 [==============================] - ETA: 0s - loss: 56921.6172 - mean_absolute_error: 178.0942\n",
      "Epoch 3: saving model to SAVED_MODELS/2023-11-08-22-49-08\\simpleLSTM.ckpt\n",
      "314/314 [==============================] - 152s 483ms/step - loss: 56921.6172 - mean_absolute_error: 178.0942 - val_loss: 357.2318 - val_mean_absolute_error: 16.4973\n",
      "Epoch 4/5\n",
      "274/314 [=========================>....] - ETA: 18s - loss: 37255.4258 - mean_absolute_error: 161.2299"
     ]
    }
   ],
   "source": [
    "model = build_model(hparams)\n",
    "print(model.summary())\n",
    "\n",
    "model_path = \"SAVED_MODELS/{ts}\".format(ts=datetime.now()).replace(\" \", \"-\").replace(\":\", \"-\").split(\".\")[0]\n",
    "os.mkdir(model_path)\n",
    "\n",
    "checkpoint_path = \"{modelPath}/{mn}.ckpt\".format(modelPath=model_path, mn=model.name)\n",
    "\n",
    "cp_callback = tf.keras.callbacks.ModelCheckpoint(filepath=checkpoint_path, save_weights_only=True, verbose=1)\n",
    "\n",
    "EPOCHS = 5\n",
    "BATCH_SIZE = 4\n",
    "\n",
    "#train\n",
    "train_hist = model.fit(\n",
    "    x=x_train,\n",
    "    y=y_train,\n",
    "    epochs=EPOCHS,\n",
    "    validation_data=(x_val, y_val),\n",
    "    batch_size=BATCH_SIZE,\n",
    "    callbacks=[cp_callback],\n",
    "    shuffle=True\n",
    ")\n",
    "\n",
    "dataset_name = \"nasdaq100\"\n",
    "\n",
    "#write to training log\n",
    "log_entry = [\n",
    "    dataset_name,\n",
    "    model.name,\n",
    "    model_path,\n",
    "    SEQ_LEN,\n",
    "    EPOCHS,\n",
    "    BATCH_SIZE,\n",
    "    train_hist.history[\"val_mean_absolute_error\"][-1]\n",
    "]\n",
    "\n",
    "with open('SAVED_MODELS/training_log.csv', 'a', newline='') as file:\n",
    "    writer = csv.writer(file)\n",
    "    writer.writerow(log_entry)"
   ]
  },
  {
   "cell_type": "markdown",
   "metadata": {},
   "source": [
    "## Testing\n",
    "\n",
    "The below code is for testing and visualization."
   ]
  },
  {
   "cell_type": "code",
   "execution_count": null,
   "metadata": {},
   "outputs": [],
   "source": [
    "#make sequences, x/y split, normalize, and fold\n",
    "\"\"\" tdx, tdy = DataProcessor.sequence_target_split(DataProcessor.sliding_window_sequence(val_data, SEQ_LEN), target_size=1)\n",
    "tdx = DataProcessor.fold_sequences(DataProcessor.zscore_standardization(tdx))\n",
    "tdy = DataProcessor.fold_sequences(tdy) \"\"\"\n",
    "\n",
    "tdx, tdy = DataProcessor.sequence_target_split(DataProcessor.sliding_window_sequence(test_data, SEQ_LEN), target_size=1)\n",
    "tdx = DataProcessor.zscore_standardization(tdx)\n",
    "\n",
    "tdx = DataProcessor.fold_sequences(tdx)\n",
    "tdy = DataProcessor.fold_sequences(tdy)\n",
    "\n",
    "tdy = tdy[:,Y_VAR]\n",
    "\n",
    "# evaluate model on the test set\n",
    "print(model.evaluate(tdx, tdy, batch_size=BATCH_SIZE))\n",
    "\n",
    "plt.plot(np.arange(0, tdy.shape[0]), tdy, 'green')   #actual data\n",
    "plt.plot(np.arange(0, tdx.shape[0]), model.predict(tdx).reshape(tdx.shape[0]), 'blue')    #predicted data\n",
    "plt.title(model_path)\n",
    "\n",
    "plt.savefig('SAVED_MODELS/model_test_visualizations/{mi}.png'.format(mi=model.name + \"_\" + model_path.split(\"/\")[1]))\n",
    "plt.show()"
   ]
  }
 ],
 "metadata": {
  "kernelspec": {
   "display_name": "Python 3",
   "language": "python",
   "name": "python3"
  },
  "language_info": {
   "codemirror_mode": {
    "name": "ipython",
    "version": 3
   },
   "file_extension": ".py",
   "mimetype": "text/x-python",
   "name": "python",
   "nbconvert_exporter": "python",
   "pygments_lexer": "ipython3",
   "version": "3.10.0"
  },
  "orig_nbformat": 4
 },
 "nbformat": 4,
 "nbformat_minor": 2
}
