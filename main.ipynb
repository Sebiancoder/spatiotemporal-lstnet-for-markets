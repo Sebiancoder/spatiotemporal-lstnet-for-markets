{
 "cells": [
  {
   "cell_type": "markdown",
   "metadata": {},
   "source": [
    "# Implementation of a Spatiotemporal Self-Attention Based LSTNet"
   ]
  },
  {
   "cell_type": "markdown",
   "metadata": {},
   "source": [
    "## Imports"
   ]
  },
  {
   "cell_type": "code",
   "execution_count": 1,
   "metadata": {},
   "outputs": [
    {
     "name": "stdout",
     "output_type": "stream",
     "text": [
      "Using TensorFlow backend\n"
     ]
    }
   ],
   "source": [
    "import pandas as pd\n",
    "import yfinance as yf\n",
    "import tensorflow as tf\n",
    "import numpy as np\n",
    "import os\n",
    "import csv\n",
    "import keras_tuner\n",
    "from sklearn.model_selection import train_test_split, RandomizedSearchCV, GridSearchCV, RepeatedStratifiedKFold\n",
    "from scikeras.wrappers import KerasRegressor\n",
    "from data_processing import DataProcessor\n",
    "from datetime import datetime\n",
    "import matplotlib.pyplot as plt\n",
    "\n",
    "#models\n",
    "from models.simple_lstm import SimpleLSTM\n",
    "from models.LSTNet import LSTNet\n",
    "from models.simple_tcn import SimpleTCN\n",
    "from models.mlp import MLP"
   ]
  },
  {
   "cell_type": "markdown",
   "metadata": {},
   "source": [
    "## Data Import and formatting\n",
    "\n",
    "We are looking to work with multivariate time series data, which will be given to us as a 2D shape: # of timesteps x number of variables. We then need to format this data so that we split it into a train and test set, and use a sliding window approach to divide it into sequences. Then take the last x timesteps in every sequence and make those the labels. We will also of course normalize the data with z-score standardization."
   ]
  },
  {
   "cell_type": "markdown",
   "metadata": {},
   "source": [
    "First we will load data. Change the below code block to adjust for data source. Included in this code block should be any variable-specific feature extraction that needs to be down, such as calculating returns from price, etc"
   ]
  },
  {
   "cell_type": "code",
   "execution_count": 2,
   "metadata": {},
   "outputs": [
    {
     "name": "stdout",
     "output_type": "stream",
     "text": [
      "<class 'pandas.core.frame.DataFrame'>\n",
      "RangeIndex: 40560 entries, 0 to 40559\n",
      "Data columns (total 82 columns):\n",
      " #   Column  Non-Null Count  Dtype  \n",
      "---  ------  --------------  -----  \n",
      " 0   AAL     40560 non-null  float64\n",
      " 1   AAPL    40560 non-null  float64\n",
      " 2   ADBE    40560 non-null  float64\n",
      " 3   ADI     40560 non-null  float64\n",
      " 4   ADP     40560 non-null  float64\n",
      " 5   ADSK    40560 non-null  float64\n",
      " 6   AKAM    40560 non-null  float64\n",
      " 7   ALXN    40560 non-null  float64\n",
      " 8   AMAT    40560 non-null  float64\n",
      " 9   AMGN    40560 non-null  float64\n",
      " 10  AMZN    40560 non-null  float64\n",
      " 11  ATVI    40560 non-null  float64\n",
      " 12  AVGO    40560 non-null  float64\n",
      " 13  BBBY    40560 non-null  float64\n",
      " 14  BIDU    40560 non-null  float64\n",
      " 15  BIIB    40560 non-null  float64\n",
      " 16  CA      40560 non-null  float64\n",
      " 17  CELG    40560 non-null  float64\n",
      " 18  CERN    40560 non-null  float64\n",
      " 19  CMCSA   40560 non-null  float64\n",
      " 20  COST    40560 non-null  float64\n",
      " 21  CSCO    40560 non-null  float64\n",
      " 22  CSX     40560 non-null  float64\n",
      " 23  CTRP    40560 non-null  float64\n",
      " 24  CTSH    40560 non-null  float64\n",
      " 25  DISCA   40560 non-null  float64\n",
      " 26  DISH    40560 non-null  float64\n",
      " 27  DLTR    40560 non-null  float64\n",
      " 28  EA      40560 non-null  float64\n",
      " 29  EBAY    40560 non-null  float64\n",
      " 30  ESRX    40560 non-null  float64\n",
      " 31  EXPE    40560 non-null  float64\n",
      " 32  FAST    40560 non-null  float64\n",
      " 33  FB      40560 non-null  float64\n",
      " 34  FOX     40560 non-null  float64\n",
      " 35  FOXA    40560 non-null  float64\n",
      " 36  GILD    40560 non-null  float64\n",
      " 37  GOOGL   40560 non-null  float64\n",
      " 38  INTC    40560 non-null  float64\n",
      " 39  JD      40560 non-null  float64\n",
      " 40  KHC     40560 non-null  float64\n",
      " 41  LBTYA   40560 non-null  float64\n",
      " 42  LBTYK   40560 non-null  float64\n",
      " 43  LRCX    40560 non-null  float64\n",
      " 44  MAR     40560 non-null  float64\n",
      " 45  MAT     40560 non-null  float64\n",
      " 46  MCHP    40560 non-null  float64\n",
      " 47  MDLZ    40560 non-null  float64\n",
      " 48  MSFT    40560 non-null  float64\n",
      " 49  MU      40560 non-null  float64\n",
      " 50  MXIM    40560 non-null  float64\n",
      " 51  MYL     40560 non-null  float64\n",
      " 52  NCLH    40560 non-null  float64\n",
      " 53  NFLX    40560 non-null  float64\n",
      " 54  NTAP    40560 non-null  float64\n",
      " 55  NVDA    40560 non-null  float64\n",
      " 56  NXPI    40560 non-null  float64\n",
      " 57  PAYX    40560 non-null  float64\n",
      " 58  PCAR    40560 non-null  float64\n",
      " 59  PYPL    40560 non-null  float64\n",
      " 60  QCOM    40560 non-null  float64\n",
      " 61  QVCA    40560 non-null  float64\n",
      " 62  ROST    40560 non-null  float64\n",
      " 63  SBUX    40560 non-null  float64\n",
      " 64  SIRI    40560 non-null  float64\n",
      " 65  STX     40560 non-null  float64\n",
      " 66  SWKS    40560 non-null  float64\n",
      " 67  SYMC    40560 non-null  float64\n",
      " 68  TMUS    40560 non-null  float64\n",
      " 69  TRIP    40560 non-null  float64\n",
      " 70  TSCO    40560 non-null  float64\n",
      " 71  TSLA    40560 non-null  float64\n",
      " 72  TXN     40560 non-null  float64\n",
      " 73  VIAB    40560 non-null  float64\n",
      " 74  VOD     40560 non-null  float64\n",
      " 75  VRTX    40560 non-null  float64\n",
      " 76  WBA     40560 non-null  float64\n",
      " 77  WDC     40560 non-null  float64\n",
      " 78  WFM     40560 non-null  float64\n",
      " 79  XLNX    40560 non-null  float64\n",
      " 80  YHOO    40560 non-null  float64\n",
      " 81  NDX     40560 non-null  float64\n",
      "dtypes: float64(82)\n",
      "memory usage: 25.4 MB\n"
     ]
    }
   ],
   "source": [
    "raw_data = pd.read_csv(\"DATA/nasdaq100/small/nasdaq100_padding.csv\")\n",
    "\n",
    "#display info about loaded data\n",
    "raw_data.info()\n",
    "raw_data.dropna(inplace=True)\n",
    "\n",
    "#we need to calculate returns, as this is more useful then the actual price. (price is a function of returns and prev price, so if we know returns we can always calculate price)\n",
    "#raw_data = DataProcessor.calc_log_returns(raw_data)"
   ]
  },
  {
   "cell_type": "markdown",
   "metadata": {},
   "source": [
    "Then we do a train/test split, create sequences with sliding window, normalize data, and designate labels(what we are trying to predict). The length of each sequence is set by SEQ_LEN.\n",
    "\n",
    "One question here is whether to normalize the target values. In other words, should we normalize data and then split the time series in to features and labels, or split first and then only normalize features. From past work, ~~I have seen better Mean Average Percent Error (MAPE) by doing the former, but intuition says it shouldn't matter.~~ From some reading, I have learned that normalizing all data, and not just the features, is a form of train-test contamination, as it allows some information from the test set to be encoded in the train set. Only features should be normalized. \n",
    "\n",
    "We also need to deal with missing values. For now, we will just drop the rows (timesteps) that have missing values but I think we should further consider the effects of this later down the line."
   ]
  },
  {
   "cell_type": "code",
   "execution_count": 3,
   "metadata": {},
   "outputs": [],
   "source": [
    "SEQ_LEN = 20\n",
    "\n",
    "train_data, test_data = train_test_split(raw_data, test_size=0.3, shuffle=False) #it is imporant the data is not shuffled here, since this is time series data\n",
    "\n",
    "train_data.dropna(inplace=True)\n",
    "test_data.dropna(inplace=True)\n",
    "\n",
    "val_data, test_data = train_test_split(test_data, test_size=0.2, shuffle=False)\n",
    "\n",
    "train_sequences = DataProcessor.sliding_window_sequence(train_data, SEQ_LEN)\n",
    "test_sequences = DataProcessor.sliding_window_sequence(val_data, SEQ_LEN)\n",
    "\n",
    "train_x, train_y = DataProcessor.sequence_target_split(train_sequences, target_size=1)\n",
    "test_x, test_y = DataProcessor.sequence_target_split(test_sequences, target_size=1)\n",
    "\n",
    "train_x = DataProcessor.zscore_standardization(train_x)\n",
    "test_x = DataProcessor.zscore_standardization(test_x)"
   ]
  },
  {
   "cell_type": "markdown",
   "metadata": {},
   "source": [
    "We then need to convert this multiIndex DataFrame we have into a 3 dimensional numpy to feed into the model. Each of x_train, x_test, y_train, y_test will have the 3D shape num_sequences x timesteps_per_sequence x num_variables. For our y-values, we will only predict one timestep in the future for now, for simplicity's sake."
   ]
  },
  {
   "cell_type": "code",
   "execution_count": 4,
   "metadata": {},
   "outputs": [
    {
     "name": "stdout",
     "output_type": "stream",
     "text": [
      "(28373, 19, 82)\n",
      "(9715, 19, 82)\n",
      "(28373, 82)\n",
      "(9715, 82)\n"
     ]
    }
   ],
   "source": [
    "x_train = DataProcessor.fold_sequences(train_x)\n",
    "x_test = DataProcessor.fold_sequences(test_x)\n",
    "y_train = DataProcessor.fold_sequences(train_y)\n",
    "y_test = DataProcessor.fold_sequences(test_y)\n",
    "\n",
    "print(x_train.shape)\n",
    "print(x_test.shape)\n",
    "print(y_train.shape)\n",
    "print(y_test.shape)"
   ]
  },
  {
   "cell_type": "markdown",
   "metadata": {},
   "source": [
    "We also likely only want to predict one of the time series variables, so we can select which one we want that to be. In the code block below, choose the index of the variable to be selected."
   ]
  },
  {
   "cell_type": "code",
   "execution_count": 5,
   "metadata": {},
   "outputs": [],
   "source": [
    "Y_VAR = 1   #index of variable to be predicted\n",
    "\n",
    "y_train = y_train[:,Y_VAR]\n",
    "y_test = y_test[:,Y_VAR]"
   ]
  },
  {
   "cell_type": "markdown",
   "metadata": {},
   "source": [
    "## Model Initialization"
   ]
  },
  {
   "cell_type": "markdown",
   "metadata": {},
   "source": [
    "We create a short function to build the model, and set it up for a training run."
   ]
  },
  {
   "cell_type": "code",
   "execution_count": 6,
   "metadata": {},
   "outputs": [],
   "source": [
    "def build_model(hp):\n",
    "\n",
    "    #change the model to run here\n",
    "    model = MLP(hp)\n",
    "    model.build(x_train.shape)\n",
    "\n",
    "    model.compile(\n",
    "        optimizer=tf.keras.optimizers.Adam(learning_rate=0.005),\n",
    "        loss=tf.keras.losses.MeanSquaredError(),\n",
    "        metrics=[tf.keras.metrics.mean_absolute_error] \n",
    "    )\n",
    "\n",
    "    return model"
   ]
  },
  {
   "cell_type": "markdown",
   "metadata": {},
   "source": [
    "## Hyperparameter Optimization\n",
    "\n",
    "Optionally, We will run a hyperparameter optimization on the model to find the best hyperparameters."
   ]
  },
  {
   "cell_type": "code",
   "execution_count": 7,
   "metadata": {},
   "outputs": [],
   "source": [
    "tuner = keras_tuner.RandomSearch(\n",
    "    hypermodel=build_model,\n",
    "    objective=\"val_mean_absolute_error\",\n",
    "    max_trials=100,\n",
    "    executions_per_trial=1,\n",
    "    overwrite=True,\n",
    "    directory=\"HP_OPTIMIZATION_LOGS\"\n",
    ")\n",
    "\n",
    "hparam_optimize = False #change to false if want to use default hp\n",
    "\n",
    "if hparam_optimize:\n",
    "\n",
    "    print(\"Running hyperparameter optimization\")\n",
    "    tuner.search_space_summary()\n",
    "\n",
    "    tuner.search(x_train, y_train, epochs=5, validation_data=(x_test, y_test))\n",
    "\n",
    "    hparams = tuner.get_best_hyperparameters(1)[0]\n",
    "\n",
    "else:\n",
    "\n",
    "    hparams = keras_tuner.HyperParameters()"
   ]
  },
  {
   "cell_type": "markdown",
   "metadata": {},
   "source": [
    "## Training"
   ]
  },
  {
   "cell_type": "markdown",
   "metadata": {},
   "source": [
    "Now that we have our data properly formatted and hyperparameters decided, we will reinitialize the model with the chosen hyperparameters, train it, and test it. Please change the name of the model to be appropriate, as this name is used as a filename for saving the model."
   ]
  },
  {
   "cell_type": "code",
   "execution_count": 8,
   "metadata": {},
   "outputs": [
    {
     "name": "stdout",
     "output_type": "stream",
     "text": [
      "Model: \"SimpleTCN\"\n",
      "_________________________________________________________________\n",
      " Layer (type)                Output Shape              Param #   \n",
      "=================================================================\n",
      " dense_1 (Dense)             multiple                  129       \n",
      "                                                                 \n",
      " tcn_2 (TCN)                 multiple                  262016    \n",
      "                                                                 \n",
      " tcn_3 (TCN)                 multiple                  263168    \n",
      "                                                                 \n",
      "=================================================================\n",
      "Total params: 525,313\n",
      "Trainable params: 525,313\n",
      "Non-trainable params: 0\n",
      "_________________________________________________________________\n",
      "None\n",
      "Epoch 1/5\n",
      "887/887 [==============================] - ETA: 0s - loss: 51032.0117 - mean_absolute_error: 117.1319\n",
      "Epoch 1: saving model to SAVED_MODELS/2023-10-30-23-34-22\\SimpleTCN.ckpt\n",
      "887/887 [==============================] - 39s 37ms/step - loss: 51032.0117 - mean_absolute_error: 117.1319 - val_loss: 12208.0977 - val_mean_absolute_error: 110.4692\n",
      "Epoch 2/5\n",
      "887/887 [==============================] - ETA: 0s - loss: 12294.6494 - mean_absolute_error: 110.7899\n",
      "Epoch 2: saving model to SAVED_MODELS/2023-10-30-23-34-22\\SimpleTCN.ckpt\n",
      "887/887 [==============================] - 31s 35ms/step - loss: 12294.6494 - mean_absolute_error: 110.7899 - val_loss: 12208.0977 - val_mean_absolute_error: 110.4692\n",
      "Epoch 3/5\n",
      "887/887 [==============================] - ETA: 0s - loss: 12294.6494 - mean_absolute_error: 110.7899\n",
      "Epoch 3: saving model to SAVED_MODELS/2023-10-30-23-34-22\\SimpleTCN.ckpt\n",
      "887/887 [==============================] - 33s 37ms/step - loss: 12294.6494 - mean_absolute_error: 110.7899 - val_loss: 12208.0977 - val_mean_absolute_error: 110.4692\n",
      "Epoch 4/5\n",
      "887/887 [==============================] - ETA: 0s - loss: 12294.6494 - mean_absolute_error: 110.7899\n",
      "Epoch 4: saving model to SAVED_MODELS/2023-10-30-23-34-22\\SimpleTCN.ckpt\n",
      "887/887 [==============================] - 32s 36ms/step - loss: 12294.6494 - mean_absolute_error: 110.7899 - val_loss: 12208.0977 - val_mean_absolute_error: 110.4692\n",
      "Epoch 5/5\n",
      "886/887 [============================>.] - ETA: 41s - loss: 12294.8418 - mean_absolute_error: 110.7907 \n",
      "Epoch 5: saving model to SAVED_MODELS/2023-10-30-23-34-22\\SimpleTCN.ckpt\n",
      "887/887 [==============================] - 36490s 41s/step - loss: 12294.6494 - mean_absolute_error: 110.7899 - val_loss: 12208.0977 - val_mean_absolute_error: 110.4692\n"
     ]
    }
   ],
   "source": [
    "model = build_model(hparams)\n",
    "print(model.summary())\n",
    "\n",
    "model_path = \"SAVED_MODELS/{ts}\".format(ts=datetime.now()).replace(\" \", \"-\").replace(\":\", \"-\").split(\".\")[0]\n",
    "os.mkdir(model_path)\n",
    "\n",
    "checkpoint_path = \"{modelPath}/{mn}.ckpt\".format(modelPath=model_path, mn=model.name)\n",
    "\n",
    "cp_callback = tf.keras.callbacks.ModelCheckpoint(filepath=checkpoint_path, save_weights_only=True, verbose=1)\n",
    "\n",
    "EPOCHS = 5\n",
    "BATCH_SIZE = 32\n",
    "\n",
    "#train\n",
    "train_hist = model.fit(\n",
    "    x=x_train,\n",
    "    y=y_train,\n",
    "    epochs=EPOCHS,\n",
    "    validation_data=(x_test, y_test),\n",
    "    batch_size=BATCH_SIZE,\n",
    "    callbacks=[cp_callback],\n",
    "    shuffle=False\n",
    ")\n",
    "\n",
    "#write to training log\n",
    "log_entry = [\n",
    "    model.name,\n",
    "    model_path,\n",
    "    EPOCHS,\n",
    "    BATCH_SIZE,\n",
    "    train_hist.history[\"val_mean_absolute_error\"][-1]\n",
    "]\n",
    "\n",
    "with open('SAVED_MODELS/training_log.csv', 'a', newline='') as file:\n",
    "    writer = csv.writer(file)\n",
    "    writer.writerow(log_entry)"
   ]
  },
  {
   "cell_type": "markdown",
   "metadata": {},
   "source": [
    "## Testing\n",
    "\n",
    "The below code is for testing and visualization."
   ]
  },
  {
   "cell_type": "code",
   "execution_count": 9,
   "metadata": {},
   "outputs": [],
   "source": [
    "#make sequences, x/y split, normalize, and fold\n",
    "td = DataProcessor.sequence_target_split(DataProcessor.sliding_window_sequence(test_data, SEQ_LEN), target_size=1)[0]\n",
    "td = DataProcessor.fold_sequences(DataProcessor.zscore_standardization(td))\n",
    "\n",
    "predicted_var = test_data.to_numpy()[:,Y_VAR]\n",
    "\n",
    "plt.plot(np.arange(0, predicted_var.shape[0]), predicted_var, 'red')\n",
    "plt.plot(np.arange(SEQ_LEN - 1, predicted_var.shape[0]), model.predict(td).reshape(td.shape[0])), 'blue'\n",
    "plt.title(model_path)\n",
    "\n",
    "plt.show()"
   ]
  }
 ],
 "metadata": {
  "kernelspec": {
   "display_name": "Python 3",
   "language": "python",
   "name": "python3"
  },
  "language_info": {
   "codemirror_mode": {
    "name": "ipython",
    "version": 3
   },
   "file_extension": ".py",
   "mimetype": "text/x-python",
   "name": "python",
   "nbconvert_exporter": "python",
   "pygments_lexer": "ipython3",
   "version": "3.10.0"
  },
  "orig_nbformat": 4
 },
 "nbformat": 4,
 "nbformat_minor": 2
}
