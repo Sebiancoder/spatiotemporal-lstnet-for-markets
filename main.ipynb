{
 "cells": [
  {
   "cell_type": "markdown",
   "metadata": {},
   "source": [
    "# Implementation of a Spatiotemporal Self-Attention Based LSTNet"
   ]
  },
  {
   "cell_type": "markdown",
   "metadata": {},
   "source": [
    "## Imports"
   ]
  },
  {
   "cell_type": "code",
   "execution_count": 3,
   "metadata": {},
   "outputs": [],
   "source": [
    "import pandas as pd\n",
    "import yfinance as yf\n",
    "import tensorflow as tf\n",
    "from sklearn.model_selection import train_test_split\n",
    "from data_processing import DataProcessor\n",
    "from models.simple_lstm import SimpleLSTM"
   ]
  },
  {
   "cell_type": "markdown",
   "metadata": {},
   "source": [
    "## Data Import and formatting\n",
    "\n",
    "We are looking to work with multivariate time series data, which will be given to us as a 2D shape: # of timesteps x number of variables. We then need to format this data so that we split it into a train and test set, and use a sliding window approach to divide it into sequences. Then take the last x timesteps in every sequence and make those the labels. We will also of course normalize the data with z-score standardization."
   ]
  },
  {
   "cell_type": "markdown",
   "metadata": {},
   "source": [
    "First we will load data. Change the below code block to adjust for data source. Included in this code block should be any variable-specific feature extraction that needs to be down, such as calculating returns from price, etc"
   ]
  },
  {
   "cell_type": "code",
   "execution_count": 4,
   "metadata": {},
   "outputs": [
    {
     "name": "stdout",
     "output_type": "stream",
     "text": [
      "<class 'pandas.core.frame.DataFrame'>\n",
      "RangeIndex: 74501 entries, 0 to 74500\n",
      "Columns: 105 entries, AAL to NDX\n",
      "dtypes: float64(105)\n",
      "memory usage: 59.7 MB\n"
     ]
    }
   ],
   "source": [
    "raw_data = pd.read_csv(\"DATA/nasdaq100/full/full_non_padding.csv\")\n",
    "\n",
    "#display info about loaded data\n",
    "raw_data.info()"
   ]
  },
  {
   "cell_type": "markdown",
   "metadata": {},
   "source": [
    "Then we do a train/test split, create sequences with sliding window, normalize data, and designate labels(what we are trying to predict). \n",
    "\n",
    "One question here is whether to normalize the target values. In other words, should we normalize data and then split the time series in to features and labels, or split first and then only normalize features. From past work, I have seen better Mean Average Percent Error (MAPE) by doing the former, but intuition says it shouldn't matter.\n",
    "\n",
    "We also need to deal with missing values. For now, we will just drop the rows (timesteps) that have missing values but I think we should further consider the effects of this later down the line."
   ]
  },
  {
   "cell_type": "code",
   "execution_count": 5,
   "metadata": {},
   "outputs": [],
   "source": [
    "train_data, test_data = train_test_split(raw_data, test_size=0.2, shuffle=False) #it is imporant the data is not shuffled here, since this is time series data\n",
    "\n",
    "train_data.dropna(inplace=True)\n",
    "test_data.dropna(inplace=True)\n",
    "\n",
    "train_sequences = DataProcessor.zscore_standardization(DataProcessor.sliding_window_sequence(train_data, 20))\n",
    "test_sequences = DataProcessor.zscore_standardization(DataProcessor.sliding_window_sequence(test_data, 20))\n",
    "\n",
    "train_x, train_y = DataProcessor.sequence_target_split(train_sequences, target_size=1)\n",
    "test_x, test_y = DataProcessor.sequence_target_split(test_sequences, target_size=1)"
   ]
  },
  {
   "cell_type": "markdown",
   "metadata": {},
   "source": [
    "We then need to convert this multiIndex DataFrame we have into a 3 dimensional numpy to feed into the model. Each of x_train, x_test, y_train, y_test will have the 3D shape num_sequences x timesteps_per_sequence x num_variables. For our y-values, we will only predict one timestep in the future for now, for simplicity's sake."
   ]
  },
  {
   "cell_type": "code",
   "execution_count": 6,
   "metadata": {},
   "outputs": [
    {
     "name": "stdout",
     "output_type": "stream",
     "text": [
      "(9686, 19, 105)\n",
      "(1948, 19, 105)\n",
      "(9686, 105)\n",
      "(1948, 105)\n"
     ]
    }
   ],
   "source": [
    "x_train = DataProcessor.fold_sequences(train_x)\n",
    "x_test = DataProcessor.fold_sequences(test_x)\n",
    "y_train = DataProcessor.fold_sequences(train_y)\n",
    "y_test = DataProcessor.fold_sequences(test_y)\n",
    "\n",
    "print(x_train.shape)\n",
    "print(x_test.shape)\n",
    "print(y_train.shape)\n",
    "print(y_test.shape)"
   ]
  },
  {
   "cell_type": "markdown",
   "metadata": {},
   "source": [
    "We also likely only want to predict one of the time series variables, so we can select which one we want that to be. In the code block below, choose the index of the variable to be selected."
   ]
  },
  {
   "cell_type": "code",
   "execution_count": 7,
   "metadata": {},
   "outputs": [
    {
     "name": "stdout",
     "output_type": "stream",
     "text": [
      "[-2.08270694 -2.08863787 -2.07784358 ...  2.96908063  2.95976907\n",
      "  2.98170165]\n",
      "[-1.42823709 -1.42534895 -1.46422771 ...  0.90543229  0.93236972\n",
      "  0.8851598 ]\n"
     ]
    }
   ],
   "source": [
    "Y_VAR = 1   #index of variable to be predicted\n",
    "\n",
    "y_train = y_train[:,Y_VAR]\n",
    "y_test = y_test[:,Y_VAR]\n",
    "\n",
    "print(y_train)\n",
    "print(y_test)"
   ]
  },
  {
   "cell_type": "markdown",
   "metadata": {},
   "source": [
    "## Training"
   ]
  },
  {
   "cell_type": "markdown",
   "metadata": {},
   "source": [
    "Now that we have our data properly formatted, we initialize the model, train it, and test it."
   ]
  },
  {
   "cell_type": "code",
   "execution_count": 8,
   "metadata": {},
   "outputs": [
    {
     "name": "stdout",
     "output_type": "stream",
     "text": [
      "WARNING:tensorflow:Layer lstm will not use cuDNN kernels since it doesn't meet the criteria. It will use a generic GPU kernel as fallback when running on GPU.\n",
      "Epoch 1/500\n"
     ]
    },
    {
     "ename": "ValueError",
     "evalue": "in user code:\n\n    File \"c:\\Users\\jasko\\anaconda3\\envs\\sts_env\\lib\\site-packages\\keras\\engine\\training.py\", line 1160, in train_function  *\n        return step_function(self, iterator)\n    File \"c:\\Users\\jasko\\anaconda3\\envs\\sts_env\\lib\\site-packages\\keras\\engine\\training.py\", line 1146, in step_function  **\n        outputs = model.distribute_strategy.run(run_step, args=(data,))\n    File \"c:\\Users\\jasko\\anaconda3\\envs\\sts_env\\lib\\site-packages\\keras\\engine\\training.py\", line 1135, in run_step  **\n        outputs = model.train_step(data)\n    File \"c:\\Users\\jasko\\anaconda3\\envs\\sts_env\\lib\\site-packages\\keras\\engine\\training.py\", line 993, in train_step\n        y_pred = self(x, training=True)\n    File \"c:\\Users\\jasko\\anaconda3\\envs\\sts_env\\lib\\site-packages\\keras\\utils\\traceback_utils.py\", line 70, in error_handler\n        raise e.with_traceback(filtered_tb) from None\n    File \"C:\\Users\\jasko\\AppData\\Local\\Temp\\__autograph_generated_filekg7_2ayw.py\", line 10, in tf__call\n        x = ag__.converted_call(ag__.ld(self).lstm_layer, (ag__.ld(inputs),), None, fscope)\n\n    ValueError: Exception encountered when calling layer \"simple_lstm\" \"                 f\"(type SimpleLSTM).\n    \n    in user code:\n    \n        File \"c:\\Users\\jasko\\OneDrive\\Documents\\GitHub\\spatiotemporal-lstnet-for-markets\\models\\simple_lstm.py\", line 18, in call  *\n            x = self.lstm_layer(inputs)\n        File \"c:\\Users\\jasko\\anaconda3\\envs\\sts_env\\lib\\site-packages\\keras\\layers\\rnn\\base_rnn.py\", line 553, in __call__  **\n            return super().__call__(inputs, **kwargs)\n        File \"c:\\Users\\jasko\\anaconda3\\envs\\sts_env\\lib\\site-packages\\keras\\utils\\traceback_utils.py\", line 70, in error_handler\n            raise e.with_traceback(filtered_tb) from None\n        File \"c:\\Users\\jasko\\anaconda3\\envs\\sts_env\\lib\\site-packages\\keras\\layers\\rnn\\base_rnn.py\", line 873, in reset_states\n            raise ValueError(\n    \n        ValueError: If a RNN is stateful, it needs to know its batch size. Specify the batch size of your input tensors: \n        - If using a Sequential model, specify the batch size by passing a `batch_input_shape` argument to your first layer.\n        - If using the functional API, specify the batch size by passing a `batch_shape` argument to your Input layer.\n    \n    \n    Call arguments received by layer \"simple_lstm\" \"                 f\"(type SimpleLSTM):\n      • inputs=tf.Tensor(shape=(None, 19, 105), dtype=float32)\n",
     "output_type": "error",
     "traceback": [
      "\u001b[1;31m---------------------------------------------------------------------------\u001b[0m",
      "\u001b[1;31mValueError\u001b[0m                                Traceback (most recent call last)",
      "\u001b[1;32mc:\\Users\\jasko\\OneDrive\\Documents\\GitHub\\spatiotemporal-lstnet-for-markets\\main.ipynb Cell 15\u001b[0m line \u001b[0;36m1\n\u001b[0;32m      <a href='vscode-notebook-cell:/c%3A/Users/jasko/OneDrive/Documents/GitHub/spatiotemporal-lstnet-for-markets/main.ipynb#X16sZmlsZQ%3D%3D?line=2'>3</a>\u001b[0m model\u001b[39m.\u001b[39mcompile(\n\u001b[0;32m      <a href='vscode-notebook-cell:/c%3A/Users/jasko/OneDrive/Documents/GitHub/spatiotemporal-lstnet-for-markets/main.ipynb#X16sZmlsZQ%3D%3D?line=3'>4</a>\u001b[0m     optimizer\u001b[39m=\u001b[39mtf\u001b[39m.\u001b[39mkeras\u001b[39m.\u001b[39moptimizers\u001b[39m.\u001b[39mAdam(learning_rate\u001b[39m=\u001b[39m\u001b[39m0.005\u001b[39m),\n\u001b[0;32m      <a href='vscode-notebook-cell:/c%3A/Users/jasko/OneDrive/Documents/GitHub/spatiotemporal-lstnet-for-markets/main.ipynb#X16sZmlsZQ%3D%3D?line=4'>5</a>\u001b[0m     loss\u001b[39m=\u001b[39mtf\u001b[39m.\u001b[39mkeras\u001b[39m.\u001b[39mlosses\u001b[39m.\u001b[39mMeanSquaredError(),\n\u001b[0;32m      <a href='vscode-notebook-cell:/c%3A/Users/jasko/OneDrive/Documents/GitHub/spatiotemporal-lstnet-for-markets/main.ipynb#X16sZmlsZQ%3D%3D?line=5'>6</a>\u001b[0m     metrics\u001b[39m=\u001b[39m[tf\u001b[39m.\u001b[39mkeras\u001b[39m.\u001b[39mmetrics\u001b[39m.\u001b[39mmean_absolute_percentage_error] \n\u001b[0;32m      <a href='vscode-notebook-cell:/c%3A/Users/jasko/OneDrive/Documents/GitHub/spatiotemporal-lstnet-for-markets/main.ipynb#X16sZmlsZQ%3D%3D?line=6'>7</a>\u001b[0m )\n\u001b[0;32m      <a href='vscode-notebook-cell:/c%3A/Users/jasko/OneDrive/Documents/GitHub/spatiotemporal-lstnet-for-markets/main.ipynb#X16sZmlsZQ%3D%3D?line=8'>9</a>\u001b[0m \u001b[39m#train\u001b[39;00m\n\u001b[1;32m---> <a href='vscode-notebook-cell:/c%3A/Users/jasko/OneDrive/Documents/GitHub/spatiotemporal-lstnet-for-markets/main.ipynb#X16sZmlsZQ%3D%3D?line=9'>10</a>\u001b[0m model\u001b[39m.\u001b[39;49mfit(\n\u001b[0;32m     <a href='vscode-notebook-cell:/c%3A/Users/jasko/OneDrive/Documents/GitHub/spatiotemporal-lstnet-for-markets/main.ipynb#X16sZmlsZQ%3D%3D?line=10'>11</a>\u001b[0m     x\u001b[39m=\u001b[39;49mx_train,\n\u001b[0;32m     <a href='vscode-notebook-cell:/c%3A/Users/jasko/OneDrive/Documents/GitHub/spatiotemporal-lstnet-for-markets/main.ipynb#X16sZmlsZQ%3D%3D?line=11'>12</a>\u001b[0m     y\u001b[39m=\u001b[39;49my_train,\n\u001b[0;32m     <a href='vscode-notebook-cell:/c%3A/Users/jasko/OneDrive/Documents/GitHub/spatiotemporal-lstnet-for-markets/main.ipynb#X16sZmlsZQ%3D%3D?line=12'>13</a>\u001b[0m     epochs\u001b[39m=\u001b[39;49m\u001b[39m500\u001b[39;49m,\n\u001b[0;32m     <a href='vscode-notebook-cell:/c%3A/Users/jasko/OneDrive/Documents/GitHub/spatiotemporal-lstnet-for-markets/main.ipynb#X16sZmlsZQ%3D%3D?line=13'>14</a>\u001b[0m     validation_data\u001b[39m=\u001b[39;49m(x_test, y_test),\n\u001b[0;32m     <a href='vscode-notebook-cell:/c%3A/Users/jasko/OneDrive/Documents/GitHub/spatiotemporal-lstnet-for-markets/main.ipynb#X16sZmlsZQ%3D%3D?line=14'>15</a>\u001b[0m     batch_size\u001b[39m=\u001b[39;49m\u001b[39m16\u001b[39;49m,\n\u001b[0;32m     <a href='vscode-notebook-cell:/c%3A/Users/jasko/OneDrive/Documents/GitHub/spatiotemporal-lstnet-for-markets/main.ipynb#X16sZmlsZQ%3D%3D?line=15'>16</a>\u001b[0m     shuffle\u001b[39m=\u001b[39;49m\u001b[39mFalse\u001b[39;49;00m\n\u001b[0;32m     <a href='vscode-notebook-cell:/c%3A/Users/jasko/OneDrive/Documents/GitHub/spatiotemporal-lstnet-for-markets/main.ipynb#X16sZmlsZQ%3D%3D?line=16'>17</a>\u001b[0m )\n",
      "File \u001b[1;32mc:\\Users\\jasko\\anaconda3\\envs\\sts_env\\lib\\site-packages\\keras\\utils\\traceback_utils.py:70\u001b[0m, in \u001b[0;36mfilter_traceback.<locals>.error_handler\u001b[1;34m(*args, **kwargs)\u001b[0m\n\u001b[0;32m     67\u001b[0m     filtered_tb \u001b[39m=\u001b[39m _process_traceback_frames(e\u001b[39m.\u001b[39m__traceback__)\n\u001b[0;32m     68\u001b[0m     \u001b[39m# To get the full stack trace, call:\u001b[39;00m\n\u001b[0;32m     69\u001b[0m     \u001b[39m# `tf.debugging.disable_traceback_filtering()`\u001b[39;00m\n\u001b[1;32m---> 70\u001b[0m     \u001b[39mraise\u001b[39;00m e\u001b[39m.\u001b[39mwith_traceback(filtered_tb) \u001b[39mfrom\u001b[39;00m \u001b[39mNone\u001b[39;00m\n\u001b[0;32m     71\u001b[0m \u001b[39mfinally\u001b[39;00m:\n\u001b[0;32m     72\u001b[0m     \u001b[39mdel\u001b[39;00m filtered_tb\n",
      "File \u001b[1;32m~\\AppData\\Local\\Temp\\__autograph_generated_filed2xx7zqo.py:15\u001b[0m, in \u001b[0;36mouter_factory.<locals>.inner_factory.<locals>.tf__train_function\u001b[1;34m(iterator)\u001b[0m\n\u001b[0;32m     13\u001b[0m \u001b[39mtry\u001b[39;00m:\n\u001b[0;32m     14\u001b[0m     do_return \u001b[39m=\u001b[39m \u001b[39mTrue\u001b[39;00m\n\u001b[1;32m---> 15\u001b[0m     retval_ \u001b[39m=\u001b[39m ag__\u001b[39m.\u001b[39mconverted_call(ag__\u001b[39m.\u001b[39mld(step_function), (ag__\u001b[39m.\u001b[39mld(\u001b[39mself\u001b[39m), ag__\u001b[39m.\u001b[39mld(iterator)), \u001b[39mNone\u001b[39;00m, fscope)\n\u001b[0;32m     16\u001b[0m \u001b[39mexcept\u001b[39;00m:\n\u001b[0;32m     17\u001b[0m     do_return \u001b[39m=\u001b[39m \u001b[39mFalse\u001b[39;00m\n",
      "File \u001b[1;32m~\\AppData\\Local\\Temp\\__autograph_generated_filekg7_2ayw.py:10\u001b[0m, in \u001b[0;36mouter_factory.<locals>.inner_factory.<locals>.tf__call\u001b[1;34m(self, inputs)\u001b[0m\n\u001b[0;32m      8\u001b[0m do_return \u001b[39m=\u001b[39m \u001b[39mFalse\u001b[39;00m\n\u001b[0;32m      9\u001b[0m retval_ \u001b[39m=\u001b[39m ag__\u001b[39m.\u001b[39mUndefinedReturnValue()\n\u001b[1;32m---> 10\u001b[0m x \u001b[39m=\u001b[39m ag__\u001b[39m.\u001b[39;49mconverted_call(ag__\u001b[39m.\u001b[39;49mld(\u001b[39mself\u001b[39;49m)\u001b[39m.\u001b[39;49mlstm_layer, (ag__\u001b[39m.\u001b[39;49mld(inputs),), \u001b[39mNone\u001b[39;49;00m, fscope)\n\u001b[0;32m     11\u001b[0m x \u001b[39m=\u001b[39m ag__\u001b[39m.\u001b[39mconverted_call(ag__\u001b[39m.\u001b[39mld(\u001b[39mself\u001b[39m)\u001b[39m.\u001b[39mdenseLayer, (ag__\u001b[39m.\u001b[39mld(x),), \u001b[39mNone\u001b[39;00m, fscope)\n\u001b[0;32m     12\u001b[0m \u001b[39mtry\u001b[39;00m:\n",
      "\u001b[1;31mValueError\u001b[0m: in user code:\n\n    File \"c:\\Users\\jasko\\anaconda3\\envs\\sts_env\\lib\\site-packages\\keras\\engine\\training.py\", line 1160, in train_function  *\n        return step_function(self, iterator)\n    File \"c:\\Users\\jasko\\anaconda3\\envs\\sts_env\\lib\\site-packages\\keras\\engine\\training.py\", line 1146, in step_function  **\n        outputs = model.distribute_strategy.run(run_step, args=(data,))\n    File \"c:\\Users\\jasko\\anaconda3\\envs\\sts_env\\lib\\site-packages\\keras\\engine\\training.py\", line 1135, in run_step  **\n        outputs = model.train_step(data)\n    File \"c:\\Users\\jasko\\anaconda3\\envs\\sts_env\\lib\\site-packages\\keras\\engine\\training.py\", line 993, in train_step\n        y_pred = self(x, training=True)\n    File \"c:\\Users\\jasko\\anaconda3\\envs\\sts_env\\lib\\site-packages\\keras\\utils\\traceback_utils.py\", line 70, in error_handler\n        raise e.with_traceback(filtered_tb) from None\n    File \"C:\\Users\\jasko\\AppData\\Local\\Temp\\__autograph_generated_filekg7_2ayw.py\", line 10, in tf__call\n        x = ag__.converted_call(ag__.ld(self).lstm_layer, (ag__.ld(inputs),), None, fscope)\n\n    ValueError: Exception encountered when calling layer \"simple_lstm\" \"                 f\"(type SimpleLSTM).\n    \n    in user code:\n    \n        File \"c:\\Users\\jasko\\OneDrive\\Documents\\GitHub\\spatiotemporal-lstnet-for-markets\\models\\simple_lstm.py\", line 18, in call  *\n            x = self.lstm_layer(inputs)\n        File \"c:\\Users\\jasko\\anaconda3\\envs\\sts_env\\lib\\site-packages\\keras\\layers\\rnn\\base_rnn.py\", line 553, in __call__  **\n            return super().__call__(inputs, **kwargs)\n        File \"c:\\Users\\jasko\\anaconda3\\envs\\sts_env\\lib\\site-packages\\keras\\utils\\traceback_utils.py\", line 70, in error_handler\n            raise e.with_traceback(filtered_tb) from None\n        File \"c:\\Users\\jasko\\anaconda3\\envs\\sts_env\\lib\\site-packages\\keras\\layers\\rnn\\base_rnn.py\", line 873, in reset_states\n            raise ValueError(\n    \n        ValueError: If a RNN is stateful, it needs to know its batch size. Specify the batch size of your input tensors: \n        - If using a Sequential model, specify the batch size by passing a `batch_input_shape` argument to your first layer.\n        - If using the functional API, specify the batch size by passing a `batch_shape` argument to your Input layer.\n    \n    \n    Call arguments received by layer \"simple_lstm\" \"                 f\"(type SimpleLSTM):\n      • inputs=tf.Tensor(shape=(None, 19, 105), dtype=float32)\n"
     ]
    }
   ],
   "source": [
    "model = SimpleLSTM() # replace this with the model to train, test, and run\n",
    "\n",
    "model.compile(\n",
    "    optimizer=tf.keras.optimizers.Adam(learning_rate=0.005),\n",
    "    loss=tf.keras.losses.MeanSquaredError(),\n",
    "    metrics=[tf.keras.metrics.mean_absolute_percentage_error] \n",
    ")\n",
    "\n",
    "#train\n",
    "model.fit(\n",
    "    x=x_train,\n",
    "    y=y_train,\n",
    "    epochs=500,\n",
    "    validation_data=(x_test, y_test),\n",
    "    batch_size=16,\n",
    "    shuffle=False\n",
    ")"
   ]
  }
 ],
 "metadata": {
  "kernelspec": {
   "display_name": "Python 3",
   "language": "python",
   "name": "python3"
  },
  "language_info": {
   "codemirror_mode": {
    "name": "ipython",
    "version": 3
   },
   "file_extension": ".py",
   "mimetype": "text/x-python",
   "name": "python",
   "nbconvert_exporter": "python",
   "pygments_lexer": "ipython3",
   "version": "3.10.0"
  },
  "orig_nbformat": 4
 },
 "nbformat": 4,
 "nbformat_minor": 2
}
