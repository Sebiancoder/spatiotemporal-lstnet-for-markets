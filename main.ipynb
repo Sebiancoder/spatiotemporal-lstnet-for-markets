{
 "cells": [
  {
   "cell_type": "markdown",
   "metadata": {},
   "source": [
    "# Implementation of a Spatiotemporal Self-Attention Based LSTNet"
   ]
  },
  {
   "cell_type": "markdown",
   "metadata": {},
   "source": [
    "## Imports"
   ]
  },
  {
   "cell_type": "code",
   "execution_count": 20,
   "metadata": {},
   "outputs": [],
   "source": [
    "import pandas as pd\n",
    "import yfinance as yf\n",
    "import tensorflow as tf\n",
    "import numpy as np\n",
    "import os\n",
    "import csv\n",
    "import keras_tuner\n",
    "from sklearn.model_selection import train_test_split, RandomizedSearchCV, GridSearchCV, RepeatedStratifiedKFold\n",
    "from scikeras.wrappers import KerasRegressor\n",
    "from data_processing import DataProcessor\n",
    "from datetime import datetime\n",
    "import matplotlib.pyplot as plt\n",
    "\n",
    "#models\n",
    "from models.simple_lstm import SimpleLSTM\n",
    "from models.LSTNet import LSTNet\n",
    "from models.simple_tcn import SimpleTCN\n",
    "from models.mlp import MLP\n",
    "from models.last_value_mlp import LastValueMLP\n",
    "from models.attention_lstm import AttentionLSTM"
   ]
  },
  {
   "cell_type": "markdown",
   "metadata": {},
   "source": [
    "## Data Import and formatting\n",
    "\n",
    "We are looking to work with multivariate time series data, which will be given to us as a 2D shape: # of timesteps x number of variables. We then need to format this data so that we split it into a train and test set, and use a sliding window approach to divide it into sequences. Then take the last x timesteps in every sequence and make those the labels. We will also of course normalize the data with z-score standardization."
   ]
  },
  {
   "cell_type": "markdown",
   "metadata": {},
   "source": [
    "First we will load data. Change the below code block to adjust for data source. Included in this code block should be any variable-specific feature extraction that needs to be down, such as calculating returns from price, etc"
   ]
  },
  {
   "cell_type": "code",
   "execution_count": 21,
   "metadata": {},
   "outputs": [
    {
     "name": "stdout",
     "output_type": "stream",
     "text": [
      "<class 'pandas.core.frame.DataFrame'>\n",
      "RangeIndex: 5800 entries, 0 to 5799\n",
      "Data columns (total 18 columns):\n",
      " #   Column                Non-Null Count  Dtype  \n",
      "---  ------                --------------  -----  \n",
      " 0   Cocoa                 5766 non-null   float64\n",
      " 1   Crude Oil             5613 non-null   float64\n",
      " 2   Cotton                5765 non-null   float64\n",
      " 3   Gold                  5604 non-null   float64\n",
      " 4   Lean Hogs             5233 non-null   float64\n",
      " 5   Copper                5608 non-null   float64\n",
      " 6   Coffee                5763 non-null   float64\n",
      " 7   Wheat                 5606 non-null   float64\n",
      " 8   Random Length Lumber  5631 non-null   float64\n",
      " 9   Live Cattle           5219 non-null   float64\n",
      " 10  Natural Gas           5609 non-null   float64\n",
      " 11  Platinum              5073 non-null   float64\n",
      " 12  Sugar                 5726 non-null   float64\n",
      " 13  Corn                  5617 non-null   float64\n",
      " 14  Soybean Oil           5633 non-null   float64\n",
      " 15  Oat                   5596 non-null   float64\n",
      " 16  Rough Rice            5760 non-null   float64\n",
      " 17  Soybean               5609 non-null   float64\n",
      "dtypes: float64(18)\n",
      "memory usage: 815.8 KB\n"
     ]
    }
   ],
   "source": [
    "raw_data = pd.read_csv(\"DATA/yahoo_finance_futures/yf_futures.csv\")\n",
    "\n",
    "# #drop date\n",
    "raw_data.drop([\"Date\"], inplace=True, axis=1)\n",
    "\n",
    "#set dataset name for logging\n",
    "dataset_name = \"assorted_futures\"\n",
    "\n",
    "#display info about loaded data\n",
    "raw_data.info()\n",
    "raw_data.dropna(inplace=True)\n",
    "\n",
    "#we need to calculate returns, as this is more useful then the actual price. (price is a function of returns and prev price, so if we know returns we can always calculate price)\n",
    "#raw_data = DataProcessor.calc_log_returns(raw_data)"
   ]
  },
  {
   "cell_type": "markdown",
   "metadata": {},
   "source": [
    "Then we do a train/test split, create sequences with sliding window, normalize data, and designate labels(what we are trying to predict). The length of each sequence is set by SEQ_LEN.\n",
    "\n",
    "One question here is whether to normalize the target values. In other words, should we normalize data and then split the time series in to features and labels, or split first and then only normalize features. From past work, ~~I have seen better Mean Average Percent Error (MAPE) by doing the former, but intuition says it shouldn't matter.~~ From some reading, I have learned that normalizing all data, and not just the features, is a form of train-test contamination, as it allows some information from the test set to be encoded in the train set. Only features should be normalized. \n",
    "\n",
    "We also need to deal with missing values. For now, we will just drop the rows (timesteps) that have missing values but I think we should further consider the effects of this later down the line."
   ]
  },
  {
   "cell_type": "code",
   "execution_count": 22,
   "metadata": {},
   "outputs": [],
   "source": [
    "SEQ_LEN = 25\n",
    "\n",
    "train_data, valtest_data = train_test_split(raw_data, test_size=0.3, shuffle=False) #it is imporant the data is not shuffled here, since this is time series data\n",
    "\n",
    "train_data.dropna(inplace=True)\n",
    "valtest_data.dropna(inplace=True)\n",
    "\n",
    "val_data, test_data = train_test_split(valtest_data, test_size=0.5, shuffle=False)\n",
    "\n",
    "train_sequences = DataProcessor.sliding_window_sequence(train_data, SEQ_LEN)\n",
    "val_sequences = DataProcessor.sliding_window_sequence(val_data, SEQ_LEN)\n",
    "\n",
    "train_x, train_y = DataProcessor.sequence_target_split(train_sequences, target_size=1)\n",
    "val_x, val_y = DataProcessor.sequence_target_split(val_sequences, target_size=1)\n",
    "\n",
    "train_x = DataProcessor.zscore_standardization(train_x)\n",
    "val_x = DataProcessor.zscore_standardization(val_x)"
   ]
  },
  {
   "cell_type": "markdown",
   "metadata": {},
   "source": [
    "We then need to convert this multiIndex DataFrame we have into a 3 dimensional numpy to feed into the model. Each of x_train, x_test, y_train, y_test will have the 3D shape num_sequences x timesteps_per_sequence x num_variables. For our y-values, we will only predict one timestep in the future for now, for simplicity's sake."
   ]
  },
  {
   "cell_type": "code",
   "execution_count": 23,
   "metadata": {},
   "outputs": [
    {
     "name": "stdout",
     "output_type": "stream",
     "text": [
      "(3102, 24, 18)\n",
      "(646, 24, 18)\n",
      "(3102, 18)\n",
      "(646, 18)\n"
     ]
    }
   ],
   "source": [
    "x_train = DataProcessor.fold_sequences(train_x)\n",
    "x_val = DataProcessor.fold_sequences(val_x)\n",
    "y_train = DataProcessor.fold_sequences(train_y)\n",
    "y_val = DataProcessor.fold_sequences(val_y)\n",
    "\n",
    "print(x_train.shape)\n",
    "print(x_val.shape)\n",
    "print(y_train.shape)\n",
    "print(y_val.shape)"
   ]
  },
  {
   "cell_type": "markdown",
   "metadata": {},
   "source": [
    "We also likely only want to predict one of the time series variables, so we can select which one we want that to be. In the code block below, choose the index of the variable to be selected."
   ]
  },
  {
   "cell_type": "code",
   "execution_count": 24,
   "metadata": {},
   "outputs": [],
   "source": [
    "Y_VAR = 3   #index of variable to be predicted\n",
    "\n",
    "if len(y_train.shape) == 1:\n",
    "\n",
    "    x_train = x_train.reshape((x_train.shape[0], x_train.shape[1], 1))\n",
    "    x_val = x_val.reshape((x_val.shape[0], x_val.shape[1], 1))\n",
    "    y_train = y_train.reshape((y_train.shape[0], 1))\n",
    "    y_val = y_val.reshape((y_val.shape[0], 1))\n",
    "\n",
    "y_train = y_train[:,Y_VAR]\n",
    "y_val = y_val[:,Y_VAR]"
   ]
  },
  {
   "cell_type": "markdown",
   "metadata": {},
   "source": [
    "## Model Initialization"
   ]
  },
  {
   "cell_type": "markdown",
   "metadata": {},
   "source": [
    "We create a short function to build the model, and set it up for a training run."
   ]
  },
  {
   "cell_type": "code",
   "execution_count": 25,
   "metadata": {},
   "outputs": [],
   "source": [
    "def build_model(hp):\n",
    "\n",
    "    #change the model to run here\n",
    "    model = SimpleLSTM(hp)\n",
    "    model.build(x_train.shape)\n",
    "\n",
    "    model.compile(\n",
    "        optimizer=tf.keras.optimizers.Adam(learning_rate=0.005),\n",
    "        loss=tf.keras.losses.MeanSquaredError(),\n",
    "        metrics=[tf.keras.metrics.mean_absolute_error] \n",
    "    )\n",
    "\n",
    "    return model"
   ]
  },
  {
   "cell_type": "markdown",
   "metadata": {},
   "source": [
    "## Hyperparameter Optimization\n",
    "\n",
    "Optionally, We will run a hyperparameter optimization on the model to find the best hyperparameters."
   ]
  },
  {
   "cell_type": "code",
   "execution_count": 26,
   "metadata": {},
   "outputs": [
    {
     "name": "stdout",
     "output_type": "stream",
     "text": [
      "WARNING:tensorflow:Layer lstm_8 will not use cuDNN kernels since it doesn't meet the criteria. It will use a generic GPU kernel as fallback when running on GPU.\n",
      "WARNING:tensorflow:Layer lstm_9 will not use cuDNN kernels since it doesn't meet the criteria. It will use a generic GPU kernel as fallback when running on GPU.\n",
      "WARNING:tensorflow:Layer lstm_10 will not use cuDNN kernels since it doesn't meet the criteria. It will use a generic GPU kernel as fallback when running on GPU.\n"
     ]
    }
   ],
   "source": [
    "tuner = keras_tuner.RandomSearch(\n",
    "    hypermodel=build_model,\n",
    "    objective=\"val_mean_absolute_error\",\n",
    "    max_trials=100,\n",
    "    executions_per_trial=1,\n",
    "    overwrite=True,\n",
    "    directory=\"HP_OPTIMIZATION_LOGS\"\n",
    ")\n",
    "\n",
    "hparam_optimize = False #change to false if want to use default hp\n",
    "\n",
    "if hparam_optimize:\n",
    "\n",
    "    print(\"Running hyperparameter optimization\")\n",
    "    tuner.search_space_summary()\n",
    "\n",
    "    tuner.search(x_train, y_train, epochs=5, validation_data=(x_val, y_val))\n",
    "\n",
    "    hparams = tuner.get_best_hyperparameters(1)[0]\n",
    "\n",
    "else:\n",
    "\n",
    "    hparams = keras_tuner.HyperParameters()"
   ]
  },
  {
   "cell_type": "markdown",
   "metadata": {},
   "source": [
    "## Training"
   ]
  },
  {
   "cell_type": "markdown",
   "metadata": {},
   "source": [
    "Now that we have our data properly formatted and hyperparameters decided, we will reinitialize the model with the chosen hyperparameters, train it, and test it. Please change the name of the model to be appropriate, as this name is used as a filename for saving the model."
   ]
  },
  {
   "cell_type": "code",
   "execution_count": 29,
   "metadata": {},
   "outputs": [
    {
     "name": "stdout",
     "output_type": "stream",
     "text": [
      "WARNING:tensorflow:Layer lstm_14 will not use cuDNN kernels since it doesn't meet the criteria. It will use a generic GPU kernel as fallback when running on GPU.\n",
      "WARNING:tensorflow:Layer lstm_15 will not use cuDNN kernels since it doesn't meet the criteria. It will use a generic GPU kernel as fallback when running on GPU.\n",
      "WARNING:tensorflow:Layer lstm_16 will not use cuDNN kernels since it doesn't meet the criteria. It will use a generic GPU kernel as fallback when running on GPU.\n"
     ]
    },
    {
     "name": "stdout",
     "output_type": "stream",
     "text": [
      "Model: \"simpleLSTM\"\n",
      "_________________________________________________________________\n",
      " Layer (type)                Output Shape              Param #   \n",
      "=================================================================\n",
      " dense_10 (Dense)            multiple                  129       \n",
      "                                                                 \n",
      " lstm_14 (LSTM)              multiple                  75264     \n",
      "                                                                 \n",
      " lstm_15 (LSTM)              multiple                  131584    \n",
      "                                                                 \n",
      " lstm_16 (LSTM)              multiple                  131584    \n",
      "                                                                 \n",
      "=================================================================\n",
      "Total params: 338,561\n",
      "Trainable params: 338,561\n",
      "Non-trainable params: 0\n",
      "_________________________________________________________________\n",
      "None\n",
      "Epoch 1/5\n",
      "97/97 [==============================] - ETA: 0s - loss: 1189921.2500 - mean_absolute_error: 992.4784\n",
      "Epoch 1: saving model to SAVED_MODELS/2023-11-27-13-58-20\\simpleLSTM.ckpt\n",
      "97/97 [==============================] - 83s 792ms/step - loss: 1189921.2500 - mean_absolute_error: 992.4784 - val_loss: 1661482.1250 - val_mean_absolute_error: 1283.0693\n",
      "Epoch 2/5\n",
      "97/97 [==============================] - ETA: 0s - loss: 1075678.1250 - mean_absolute_error: 933.3854\n",
      "Epoch 2: saving model to SAVED_MODELS/2023-11-27-13-58-20\\simpleLSTM.ckpt\n",
      "97/97 [==============================] - 70s 718ms/step - loss: 1075678.1250 - mean_absolute_error: 933.3854 - val_loss: 1517387.1250 - val_mean_absolute_error: 1225.6313\n",
      "Epoch 3/5\n",
      "97/97 [==============================] - ETA: 0s - loss: 972920.7500 - mean_absolute_error: 876.6396\n",
      "Epoch 3: saving model to SAVED_MODELS/2023-11-27-13-58-20\\simpleLSTM.ckpt\n",
      "97/97 [==============================] - 74s 766ms/step - loss: 972920.7500 - mean_absolute_error: 876.6396 - val_loss: 1384176.7500 - val_mean_absolute_error: 1170.0266\n",
      "Epoch 4/5\n",
      "97/97 [==============================] - ETA: 0s - loss: 880650.6250 - mean_absolute_error: 822.1238\n",
      "Epoch 4: saving model to SAVED_MODELS/2023-11-27-13-58-20\\simpleLSTM.ckpt\n",
      "97/97 [==============================] - 79s 814ms/step - loss: 880650.6250 - mean_absolute_error: 822.1238 - val_loss: 1262435.1250 - val_mean_absolute_error: 1116.7902\n",
      "Epoch 5/5\n",
      "97/97 [==============================] - ETA: 0s - loss: 797415.5625 - mean_absolute_error: 769.9456\n",
      "Epoch 5: saving model to SAVED_MODELS/2023-11-27-13-58-20\\simpleLSTM.ckpt\n",
      "97/97 [==============================] - 81s 835ms/step - loss: 797415.5625 - mean_absolute_error: 769.9456 - val_loss: 1150169.7500 - val_mean_absolute_error: 1065.3425\n"
     ]
    }
   ],
   "source": [
    "model = build_model(hparams)\n",
    "print(model.summary())\n",
    "\n",
    "model_path = \"SAVED_MODELS/{ts}\".format(ts=datetime.now()).replace(\" \", \"-\").replace(\":\", \"-\").split(\".\")[0]\n",
    "os.mkdir(model_path)\n",
    "\n",
    "checkpoint_path = \"{modelPath}/{mn}.ckpt\".format(modelPath=model_path, mn=model.name)\n",
    "\n",
    "cp_callback = tf.keras.callbacks.ModelCheckpoint(filepath=checkpoint_path, save_weights_only=True, verbose=1)\n",
    "\n",
    "EPOCHS = 5\n",
    "BATCH_SIZE = 32\n",
    "\n",
    "#train\n",
    "train_hist = model.fit(\n",
    "    x=x_train,\n",
    "    y=y_train,\n",
    "    epochs=EPOCHS,\n",
    "    validation_data=(x_val, y_val),\n",
    "    batch_size=BATCH_SIZE,\n",
    "    callbacks=[cp_callback],\n",
    "    shuffle=True\n",
    ")\n",
    "\n",
    "#write to training log\n",
    "log_entry = [\n",
    "    dataset_name,\n",
    "    model.name,\n",
    "    model_path,\n",
    "    SEQ_LEN,\n",
    "    EPOCHS,\n",
    "    BATCH_SIZE,\n",
    "    train_hist.history[\"val_mean_absolute_error\"][-1]\n",
    "]\n",
    "\n",
    "with open('SAVED_MODELS/training_log.csv', 'a', newline='') as file:\n",
    "    writer = csv.writer(file)\n",
    "    writer.writerow(log_entry)"
   ]
  },
  {
   "cell_type": "markdown",
   "metadata": {},
   "source": []
  },
  {
   "cell_type": "markdown",
   "metadata": {},
   "source": [
    "## Testing\n",
    "\n",
    "The below code is for testing and visualization."
   ]
  },
  {
   "cell_type": "code",
   "execution_count": 28,
   "metadata": {},
   "outputs": [
    {
     "name": "stdout",
     "output_type": "stream",
     "text": [
      "41/41 [==============================] - 2s 55ms/step - loss: 1652945.6250 - mean_absolute_error: 1283.1344\n",
      "[1652945.625, 1283.1343994140625]\n",
      "21/21 [==============================] - 2s 60ms/step\n"
     ]
    },
    {
     "data": {
      "image/png": "[encoded data removed]",
      "text/plain": [
       "<Figure size 640x480 with 1 Axes>"
      ]
     },
     "metadata": {},
     "output_type": "display_data"
    }
   ],
   "source": [
    "#make sequences, x/y split, normalize, and fold\n",
    "\"\"\" tdx, tdy = DataProcessor.sequence_target_split(DataProcessor.sliding_window_sequence(val_data, SEQ_LEN), target_size=1)\n",
    "tdx = DataProcessor.fold_sequences(DataProcessor.zscore_standardization(tdx))\n",
    "tdy = DataProcessor.fold_sequences(tdy) \"\"\"\n",
    "\n",
    "tdx, tdy = DataProcessor.sequence_target_split(DataProcessor.sliding_window_sequence(test_data, SEQ_LEN), target_size=1)\n",
    "tdx = DataProcessor.zscore_standardization(tdx)\n",
    "\n",
    "tdx = DataProcessor.fold_sequences(tdx)\n",
    "tdy = DataProcessor.fold_sequences(tdy)\n",
    "\n",
    "if len(tdy.shape) == 1:\n",
    "    print(\"rrr\")\n",
    "\n",
    "    tdx = tdx.reshape((tdx.shape[0], tdx.shape[1], 1))\n",
    "    tdy = tdy.reshape((tdy.shape[0], 1))\n",
    "\n",
    "tdy = tdy[:,Y_VAR]\n",
    "\n",
    "# evaluate model on the test set\n",
    "print(model.evaluate(tdx, tdy, batch_size=BATCH_SIZE))\n",
    "\n",
    "plt.plot(np.arange(0, tdy.shape[0]), tdy, 'green', label=\"True Values\")   #actual data\n",
    "plt.plot(np.arange(0, tdx.shape[0]), model.predict(tdx).reshape(tdx.shape[0]), 'blue', label=\"Predicted Values\")    #predicted data\n",
    "plt.title(model_path)\n",
    "plt.legend(loc=\"upper left\")\n",
    "plt.xlabel(\"Timestep\")\n",
    "plt.ylabel(\"Price\")\n",
    "\n",
    "plt.savefig('SAVED_MODELS/model_test_visualizations/{mi}.png'.format(mi=model.name + \"_\" + model_path.split(\"/\")[1]))\n",
    "plt.show()"
   ]
  }
 ],
 "metadata": {
  "kernelspec": {
   "display_name": "Python 3",
   "language": "python",
   "name": "python3"
  },
  "language_info": {
   "codemirror_mode": {
    "name": "ipython",
    "version": 3
   },
   "file_extension": ".py",
   "mimetype": "text/x-python",
   "name": "python",
   "nbconvert_exporter": "python",
   "pygments_lexer": "ipython3",
   "version": "3.10.0"
  },
  "orig_nbformat": 4
 },
 "nbformat": 4,
 "nbformat_minor": 2
}
