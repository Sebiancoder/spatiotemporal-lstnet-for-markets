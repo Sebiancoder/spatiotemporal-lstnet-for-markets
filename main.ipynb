{
 "cells": [
  {
   "cell_type": "markdown",
   "metadata": {},
   "source": [
    "# Implementation of a Spatiotemporal Self-Attention Based LSTNet"
   ]
  },
  {
   "cell_type": "markdown",
   "metadata": {},
   "source": [
    "## Imports"
   ]
  },
  {
   "cell_type": "code",
   "execution_count": 1,
   "metadata": {},
   "outputs": [],
   "source": [
    "import pandas as pd\n",
    "import yfinance as yf\n",
    "from sklearn.model_selection import train_test_split\n",
    "from data_processing import DataProcessor"
   ]
  },
  {
   "cell_type": "markdown",
   "metadata": {},
   "source": [
    "## Data Import and formatting\n",
    "\n",
    "We are looking to work with multivariate time series data, which will be given to us as a 2D shape: # of timesteps x number of variables. We then need to format this data so that we split it into a train and test set, and use a sliding window approach to divide it into sequences. Then take the last x timesteps in every sequence and make those the labels. We will also of course normalize the data with z-score standardization."
   ]
  },
  {
   "cell_type": "markdown",
   "metadata": {},
   "source": [
    "First we will load data. Change the below code block to adjust for data source."
   ]
  },
  {
   "cell_type": "code",
   "execution_count": 2,
   "metadata": {},
   "outputs": [
    {
     "name": "stdout",
     "output_type": "stream",
     "text": [
      "<class 'pandas.core.frame.DataFrame'>\n",
      "RangeIndex: 74501 entries, 0 to 74500\n",
      "Columns: 105 entries, AAL to NDX\n",
      "dtypes: float64(105)\n",
      "memory usage: 59.7 MB\n"
     ]
    }
   ],
   "source": [
    "raw_data = pd.read_csv(\"DATA/nasdaq100/full/full_non_padding.csv\")\n",
    "\n",
    "#display info about loaded data\n",
    "raw_data.info()"
   ]
  },
  {
   "cell_type": "markdown",
   "metadata": {},
   "source": [
    "Then we do a train/test split, create sequences with sliding window, normalize data, and designate labels(what we are trying to predict). \n",
    "\n",
    "One question here is whether to normalize the target values. In other words, should we normalize data and then split the time series in to features and labels, or split first and then only normalize features. From past work, I have seen better Mean Average Percent Error (MAPE) by doing the former, but intuition says it shouldn't matter.\n",
    "\n",
    "We also need to deal with missing values. For now, we will just drop the rows (timesteps) that have missing values but I think we should further consider the effects of this later down the line."
   ]
  },
  {
   "cell_type": "code",
   "execution_count": 3,
   "metadata": {},
   "outputs": [
    {
     "name": "stdout",
     "output_type": "stream",
     "text": [
      "               AAL      AAPL      ADBE       ADI       ADP      ADSK  \\\n",
      "0     0  -1.188402 -2.084871 -1.484487 -1.187783  0.199544 -1.992492   \n",
      "      1  -1.198082 -2.075032 -1.484487 -1.116616  0.201428 -1.991189   \n",
      "      2  -1.203336 -2.068472 -1.522971 -1.059373  0.217572       NaN   \n",
      "      3  -1.206181 -2.066286 -1.526317 -1.042355  0.219210       NaN   \n",
      "      4  -1.182871 -2.067379 -1.496200 -1.073297  0.220849 -1.985977   \n",
      "...            ...       ...       ...       ...       ...       ...   \n",
      "59580 15  0.605093  2.574539  2.251760  2.361265  1.743386  1.234960   \n",
      "      16  0.603296  2.574801  2.251760  2.364359  1.741747  1.233657   \n",
      "      17  0.598377  2.574550  2.246740  2.362812  1.742566  1.232354   \n",
      "      18  0.588460  2.570177  2.244231  2.364359  1.744205  1.232354   \n",
      "      19  0.593438  2.572910  2.248414  2.362812  1.753219  1.238869   \n",
      "\n",
      "              AKAM      ALXN      AMAT      AMGN  ...       VOD      VRSK  \\\n",
      "0     0  -0.414227 -0.079535 -1.530343  0.414444  ...  1.579358  2.359532   \n",
      "      1  -0.397080 -0.235128 -1.512911  0.422931  ...  1.587602       NaN   \n",
      "      2  -0.421372 -0.163682 -1.519187  0.445813  ...  1.595888  2.577284   \n",
      "      3  -0.419943 -0.200199 -1.509425  0.443100  ...  1.595888       NaN   \n",
      "      4  -0.384219 -0.151775 -1.516398  0.429705  ...  1.583459  2.329497   \n",
      "...            ...       ...       ...       ...  ...       ...       ...   \n",
      "59580 15  0.317400  0.987386  2.036063  1.603052  ... -0.902287  0.527412   \n",
      "      16  0.315971  0.995325  2.036063  1.608139  ... -0.904359  0.527412   \n",
      "      17  0.314542  1.004057  2.034320  1.606444  ... -0.906430  0.523658   \n",
      "      18  0.315971  1.001676  2.036028  1.608393  ... -0.904359  0.527412   \n",
      "      19  0.321687  0.992149  2.036063  1.611318  ... -0.904359  0.519903   \n",
      "\n",
      "              VRTX       WBA       WDC       WFM      XLNX      YHOO  \\\n",
      "0     0   1.053367 -0.474918 -0.857985  3.040079 -1.827811 -1.988045   \n",
      "      1   0.914828 -0.398801 -0.858900  3.159874 -1.789299 -1.925160   \n",
      "      2   0.987750 -0.403151 -0.847917  3.087997 -1.715238 -1.920323   \n",
      "      3   0.932461 -0.324859 -0.845171  3.048065 -1.727088 -1.898556   \n",
      "      4   0.912939 -0.320509 -0.845171  3.215778 -1.744863 -1.838090   \n",
      "...            ...       ...       ...       ...       ...       ...   \n",
      "59580 15  0.504250  1.575897  1.392018 -0.378068  1.217578  1.710037   \n",
      "      16  0.505510  1.580247  1.396228 -0.378068  1.216097  1.710037   \n",
      "      17  0.504250  1.575897  1.398058 -0.362095  1.208691  1.712456   \n",
      "      18  0.506769  1.571548  1.401719 -0.374074  1.208691  1.710037   \n",
      "      19  0.550850  1.567198  1.403550 -0.378068  1.214615  1.712456   \n",
      "\n",
      "              XRAY       NDX  \n",
      "0     0   1.417366       NaN  \n",
      "      1   1.579501 -1.393970  \n",
      "      2   1.510668 -1.389717  \n",
      "      3   1.427193 -1.382803  \n",
      "      4        NaN -1.397071  \n",
      "...            ...       ...  \n",
      "59580 15  1.564762  2.452411  \n",
      "      16  1.564762  2.455854  \n",
      "      17  1.554935  2.453942  \n",
      "      18  1.564762  2.451248  \n",
      "      19  1.569675  2.455694  \n",
      "\n",
      "[1191620 rows x 105 columns]\n",
      "               AAL      AAPL      ADBE       ADI       ADP      ADSK  \\\n",
      "0     0   1.205865 -1.361923 -1.907546  1.469620  1.461625 -1.604553   \n",
      "      1   1.223964 -1.353815 -1.907546  1.461091  1.504464 -1.589797   \n",
      "      2   1.242062 -1.351112 -1.902657  1.469620  1.495896 -1.589797   \n",
      "      3   1.239046 -1.370032 -1.909990  1.446081  1.461625 -1.614390   \n",
      "      4   1.254128 -1.386249 -1.905102  1.435506  1.461625 -1.614390   \n",
      "...            ...       ...       ...       ...       ...       ...   \n",
      "14881 15 -0.242025  0.979565  1.446157 -1.907645  1.217441  1.897465   \n",
      "      16 -0.235992  0.973349  1.443712 -1.907645  1.221725  1.895006   \n",
      "      17 -0.235992  0.947131  1.441268 -1.899116  1.204589  1.897465   \n",
      "      18 -0.242025  0.973349  1.441268 -1.903380  1.144614  1.907302   \n",
      "      19 -0.242025  0.927400  1.419268 -1.886324  1.136046  1.877791   \n",
      "\n",
      "              AKAM      ALXN      AMAT      AMGN  ...       VOD      VRSK  \\\n",
      "0     0   0.682479  3.481425 -1.953732  1.871201  ... -1.731101  2.044129   \n",
      "      1   0.691068  3.470803 -1.933634  1.875670  ... -1.729737  2.044129   \n",
      "      2   0.688921  3.484081 -1.923685  1.870663  ... -1.760117  2.052632   \n",
      "      3   0.691068  3.473459 -1.923685  1.869707  ... -1.770049  2.035626   \n",
      "      4   0.686773  3.504927 -1.923584  1.873652  ... -1.750575  2.010118   \n",
      "...            ...       ...       ...       ...  ...       ...       ...   \n",
      "14881 15 -0.288034  1.898703  1.804670 -0.612777  ...  0.265018  1.895327   \n",
      "      16 -0.275151  1.925259  1.799646 -0.609040  ...  0.284492  1.899579   \n",
      "      17 -0.279445  1.911981  1.794621 -0.603809  ...  0.294229  1.891076   \n",
      "      18 -0.277298  1.921275  1.789597 -0.603809  ...  0.255281  1.891076   \n",
      "      19 -0.279445  1.880114  1.754424 -0.612777  ...  0.245543  1.882573   \n",
      "\n",
      "              VRTX       WBA       WDC       WFM      XLNX      YHOO  \\\n",
      "0     0  -1.197869  1.500567 -0.931778 -0.653230  0.186868 -1.534494   \n",
      "      1  -1.196103  1.500567 -0.926975 -0.653230  0.202159 -1.520807   \n",
      "      2  -1.198752  1.507727 -0.929377 -0.649724  0.197062 -1.534494   \n",
      "      3  -1.190807  1.494122 -0.924574 -0.649724  0.194514 -1.534494   \n",
      "      4  -1.191689  1.480875 -0.925775 -0.654983  0.191965 -1.541337   \n",
      "...            ...       ...       ...       ...       ...       ...   \n",
      "14881 15  1.197951  1.829963  1.973925  1.688851  2.347956  1.914590   \n",
      "      16  1.202806  1.855026  1.971524  1.692357  2.347956  1.921433   \n",
      "      17  1.203247  1.865767  1.964128  1.694110  2.353053  1.914590   \n",
      "      18  1.203247  1.865767  1.973925  1.692357  2.358150  1.921433   \n",
      "      19  1.191771  1.837124  1.981130  1.694110  2.342859  1.928276   \n",
      "\n",
      "              XRAY       NDX  \n",
      "0     0   0.052320 -0.931149  \n",
      "      1   0.083359 -0.912711  \n",
      "      2   0.073013 -0.915404  \n",
      "      3   0.062667 -0.927826  \n",
      "      4   0.052320 -0.931524  \n",
      "...            ...       ...  \n",
      "14881 15  1.066269  2.832762  \n",
      "      16  1.086962  2.842433  \n",
      "      17  1.024883  2.837043  \n",
      "      18  1.024883  2.831023  \n",
      "      19  0.962805  2.799876  \n",
      "\n",
      "[297640 rows x 105 columns]\n"
     ]
    }
   ],
   "source": [
    "train_data, test_data = train_test_split(raw_data, test_size=0.2, shuffle=False) #it is imporant the data is not shuffled here, since this is time series data\n",
    "\n",
    "train_data.dropna(inplace=True)\n",
    "test_data.dropna(inplace=True)\n",
    "\n",
    "train_sequences = DataProcessor.zscore_standardization(DataProcessor.sliding_window_sequence(train_data, 20))\n",
    "test_sequences = DataProcessor.zscore_standardization(DataProcessor.sliding_window_sequence(test_data, 20))\n",
    "\n",
    "x_train, y_train = DataProcessor.sequence_target_split(train_sequences, target_size=1)\n",
    "x_test, y_test = DataProcessor.sequence_target_split(test_sequences, target_size=1)"
   ]
  },
  {
   "cell_type": "markdown",
   "metadata": {},
   "source": [
    "We then need to convert this multiIndex DataFrame we have into a 3 dimensional numpy to feed into the model. Each of x_train, x_test, y_train, y_test will have the 3D shape num_sequences x timesteps_per_sequence x num_variables."
   ]
  },
  {
   "cell_type": "code",
   "execution_count": 4,
   "metadata": {},
   "outputs": [
    {
     "ename": "AttributeError",
     "evalue": "type object 'DataProcessor' has no attribute 'fold_sequences'",
     "output_type": "error",
     "traceback": [
      "\u001b[1;31m---------------------------------------------------------------------------\u001b[0m",
      "\u001b[1;31mAttributeError\u001b[0m                            Traceback (most recent call last)",
      "\u001b[1;32mc:\\Users\\jasko\\OneDrive\\Documents\\GitHub\\spatiotemporal-lstnet-for-markets\\main.ipynb Cell 10\u001b[0m line \u001b[0;36m1\n\u001b[1;32m----> <a href='vscode-notebook-cell:/c%3A/Users/jasko/OneDrive/Documents/GitHub/spatiotemporal-lstnet-for-markets/main.ipynb#X12sZmlsZQ%3D%3D?line=0'>1</a>\u001b[0m x_train \u001b[39m=\u001b[39m DataProcessor\u001b[39m.\u001b[39;49mfold_sequences(x_train)\n\u001b[0;32m      <a href='vscode-notebook-cell:/c%3A/Users/jasko/OneDrive/Documents/GitHub/spatiotemporal-lstnet-for-markets/main.ipynb#X12sZmlsZQ%3D%3D?line=1'>2</a>\u001b[0m x_test \u001b[39m=\u001b[39m DataProcessor\u001b[39m.\u001b[39mfold_sequences(x_test)\n\u001b[0;32m      <a href='vscode-notebook-cell:/c%3A/Users/jasko/OneDrive/Documents/GitHub/spatiotemporal-lstnet-for-markets/main.ipynb#X12sZmlsZQ%3D%3D?line=2'>3</a>\u001b[0m y_train \u001b[39m=\u001b[39m DataProcessor\u001b[39m.\u001b[39mfold_sequences(y_train)\n",
      "\u001b[1;31mAttributeError\u001b[0m: type object 'DataProcessor' has no attribute 'fold_sequences'"
     ]
    }
   ],
   "source": [
    "x_train = DataProcessor.fold_sequences(x_train)\n",
    "x_test = DataProcessor.fold_sequences(x_test)\n",
    "y_train = DataProcessor.fold_sequences(y_train)\n",
    "y_test = DataProcessor.fold_sequences(y_test)"
   ]
  }
 ],
 "metadata": {
  "kernelspec": {
   "display_name": "Python 3",
   "language": "python",
   "name": "python3"
  },
  "language_info": {
   "codemirror_mode": {
    "name": "ipython",
    "version": 3
   },
   "file_extension": ".py",
   "mimetype": "text/x-python",
   "name": "python",
   "nbconvert_exporter": "python",
   "pygments_lexer": "ipython3",
   "version": "3.10.0"
  },
  "orig_nbformat": 4
 },
 "nbformat": 4,
 "nbformat_minor": 2
}
