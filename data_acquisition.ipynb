{
 "cells": [
  {
   "cell_type": "markdown",
   "metadata": {},
   "source": [
    "# Data Acquisition"
   ]
  },
  {
   "cell_type": "markdown",
   "metadata": {},
   "source": [
    "This notebook contains various codeblocks to automatically source various data from a variety of sources."
   ]
  },
  {
   "cell_type": "markdown",
   "metadata": {},
   "source": [
    "## Imports"
   ]
  },
  {
   "cell_type": "code",
   "execution_count": null,
   "metadata": {},
   "outputs": [],
   "source": [
    "import pandas as pd\n",
    "import yfinance as yf\n",
    "import matplotlib.pyplot as plt"
   ]
  },
  {
   "cell_type": "markdown",
   "metadata": {},
   "source": [
    "## Yahoo Finance Futures"
   ]
  },
  {
   "cell_type": "markdown",
   "metadata": {},
   "source": [
    "Below we acquire various futures prices from yahoo finance. Check this [link](https://finance.yahoo.com/commodities/?guccounter=1&guce_referrer=aHR0cHM6Ly93d3cuZ29vZ2xlLmNvbS8&guce_referrer_sig=AQAAALv9PVwYcDR-yZ0rlbIZ7P1E2jgsOk4u161XcAFqDXXMg9mNi7t1KhmKjmUHB-xuO5r_6AHBN8fanqhZP4UdCILIaHhaMyi-KZ1WnHCQEhzAnikrphDSCQSXCVNfaJH92qbke_dMkiQy_jwLO4HRmYFgtsMok225_KRyqcNrqtZr) for available futures."
   ]
  },
  {
   "cell_type": "code",
   "execution_count": null,
   "metadata": {},
   "outputs": [],
   "source": [
    "desired_futures = {\n",
    "    \"ZS=F\": \"Soybean\",\n",
    "    \"ZL=F\": \"Soybean Oil\",\n",
    "    \"ZC=F\": \"Corn\",\n",
    "    \"CL=F\": \"Crude Oil\",\n",
    "    \"SB=F\": \"Sugar\",\n",
    "    \"CT=F\": \"Cotton\",\n",
    "    \"LBS=F\": \"Random Length Lumber\",\n",
    "    \"KC=F\": \"Coffee\",\n",
    "    \"CC=F\": \"Cocoa\",\n",
    "    \"LE=F\": \"Live Cattle\",\n",
    "    \"HE=F\": \"Lean Hogs\",\n",
    "    \"ZR=F\": \"Rough Rice\",\n",
    "    \"KE=F\": \"Wheat\",\n",
    "    \"ZO=F\": \"Oat\",\n",
    "    \"NG=F\": \"Natural Gas\",\n",
    "    \"PL=F\": \"Palladium\",\n",
    "    \"HG=F\": \"Copper\",\n",
    "    \"PL=F\": \"Platinum\",\n",
    "    \"GC=F\": \"Gold\"\n",
    "}\n",
    "\n",
    "futures = yf.download(\" \".join(list(desired_futures.keys())), start=\"2000-01-01\", end=\"2022-12-31\")['Close']\n",
    "futures.index = pd.to_datetime(futures.index)\n",
    "futures.rename(columns=desired_futures, inplace=True)\n",
    "\n",
    "#plot data\n",
    "fig = plt.figure\n",
    "ax = plt.subplot(111)\n",
    "\n",
    "futures.plot(ax=ax)\n",
    "\n",
    "ax.legend(loc=\"center left\", bbox_to_anchor=(1.1, 1.05))\n",
    "\n",
    "futures.to_csv(\"DATA/yahoo_finance_futures/yf_futures.csv\")\n",
    "\n"
   ]
  },
  {
   "cell_type": "code",
   "execution_count": null,
   "metadata": {},
   "outputs": [],
   "source": [
    "futures.corr()"
   ]
  }
 ],
 "metadata": {
  "kernelspec": {
   "display_name": "sts_env",
   "language": "python",
   "name": "python3"
  },
  "language_info": {
   "codemirror_mode": {
    "name": "ipython",
    "version": 3
   },
   "file_extension": ".py",
   "mimetype": "text/x-python",
   "name": "python",
   "nbconvert_exporter": "python",
   "pygments_lexer": "ipython3",
   "version": "3.10.0"
  }
 },
 "nbformat": 4,
 "nbformat_minor": 2
}
