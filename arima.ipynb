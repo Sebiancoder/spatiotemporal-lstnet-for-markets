{
 "cells": [
  {
   "cell_type": "markdown",
   "metadata": {},
   "source": [
    "# Implementation of Arima Model"
   ]
  },
  {
   "cell_type": "markdown",
   "metadata": {},
   "source": [
    "## Imports"
   ]
  },
  {
   "cell_type": "code",
   "execution_count": null,
   "metadata": {},
   "outputs": [],
   "source": [
    "import pandas as pd\n",
    "import csv\n",
    "from matplotlib import pyplot as plt\n",
    "from pandas.plotting import autocorrelation_plot\n",
    "from statsmodels.tsa.arima.model import ARIMA\n",
    "from sklearn.model_selection import train_test_split\n",
    "from sklearn.metrics import mean_squared_error, mean_absolute_error\n",
    "from datetime import datetime"
   ]
  },
  {
   "cell_type": "markdown",
   "metadata": {},
   "source": [
    "## Data Import and Formatting"
   ]
  },
  {
   "cell_type": "markdown",
   "metadata": {},
   "source": [
    "First we load in our dataset from a csv file. For now, we will use univariate data for ARIMA (just soybean futures prices)."
   ]
  },
  {
   "cell_type": "code",
   "execution_count": null,
   "metadata": {},
   "outputs": [],
   "source": [
    "raw_data = pd.read_csv(\"DATA/yahoo_finance_futures/yf_futures.csv\").set_index(\"Date\")\n",
    "raw_data.index = pd.to_datetime(raw_data.index)\n",
    "\n",
    "dataset_name=\"assorted_futures\"\n",
    "\n",
    "soybean_futures = raw_data[\"Soybean\"]\n",
    "\n",
    "soybean_futures.dropna(inplace=True)\n",
    "\n",
    "soybean_futures.index = soybean_futures.index.to_period('M')\n",
    "\n",
    "#plot our data\n",
    "soybean_futures.plot()"
   ]
  },
  {
   "cell_type": "markdown",
   "metadata": {},
   "source": [
    "Let's calculate autoregression and look at an autoregression plot to estimate optimal values of p."
   ]
  },
  {
   "cell_type": "code",
   "execution_count": null,
   "metadata": {},
   "outputs": [],
   "source": [
    "autocorrelation = [soybean_futures.autocorr(x) for x in range(5500)]\n",
    "\n",
    "ac_plot = autocorrelation_plot(soybean_futures)\n",
    "\n",
    "# lags = ac_plot.lines[-1].get_xdata()\n",
    "# autocorrs = ac_plot.lines[-1].get_ydata()\n"
   ]
  },
  {
   "cell_type": "markdown",
   "metadata": {},
   "source": [
    "We can experiment with different differencing values."
   ]
  },
  {
   "cell_type": "code",
   "execution_count": null,
   "metadata": {},
   "outputs": [],
   "source": [
    "d = 2\n",
    "\n",
    "print(soybean_futures)\n",
    "\n",
    "diffed_sf = pd.Series(soybean_futures).rename(\"diff_{D}\".format(D=d))\n",
    "\n",
    "for i in range(d):\n",
    "\n",
    "    diffed_sf = diffed_sf.diff()\n",
    "\n",
    "\n",
    "diffed_sf.plot(color=\"green\")\n",
    "soybean_futures.plot()\n",
    "\n"
   ]
  },
  {
   "cell_type": "markdown",
   "metadata": {},
   "source": [
    "Let us finally perform a train/test split."
   ]
  },
  {
   "cell_type": "code",
   "execution_count": null,
   "metadata": {},
   "outputs": [],
   "source": [
    "train, test = train_test_split(soybean_futures, test_size=0.2, shuffle=False)"
   ]
  },
  {
   "cell_type": "markdown",
   "metadata": {},
   "source": [
    "## Model Implementation, Testing, and Evaluation"
   ]
  },
  {
   "cell_type": "markdown",
   "metadata": {},
   "source": [
    "Below, we iterate through every test timestep, and for each timestep use all previous data to build and fit an ARIMA model. Then we log all the predictions, and compare it to the true values."
   ]
  },
  {
   "cell_type": "code",
   "execution_count": null,
   "metadata": {},
   "outputs": [],
   "source": [
    "pred = []\n",
    "history = list(train)\n",
    "\n",
    "test = test[0:100]\n",
    "\n",
    "print(\"Starting {lent} predictions\".format(lent=(len(test))))\n",
    "\n",
    "for ts in range(len(test)):\n",
    "    print(\"Fitting and testing on {ts}\".format(ts=ts), end='\\r')\n",
    "    model = ARIMA(history, order=(5, 2, 5))\n",
    "    model_fit = model.fit(method_kwargs={'maxiter': 500})\n",
    "    output = model_fit.forecast()[0]\n",
    "    pred.append(output)\n",
    "    history.append(test[ts])\n",
    "\n",
    "#write to training log\n",
    "log_entry = [\n",
    "    dataset_name,\n",
    "    \"ARIMA\",\n",
    "    datetime.now(),\n",
    "    \"NaN\",\n",
    "    \"NaN\",\n",
    "    \"NaN\",\n",
    "    mean_absolute_error(test, pred)\n",
    "]\n",
    "\n",
    "with open('SAVED_MODELS/training_log.csv', 'a', newline='') as file:\n",
    "    writer = csv.writer(file)\n",
    "    writer.writerow(log_entry)\n",
    "\n",
    "plt.title(\"ARIMA model performance - {ds}\".format(ds=dataset_name))\n",
    "plt.xlabel(\"Timestep\")\n",
    "plt.ylabel(\"Price\")\n",
    "plt.plot(list(test), label=\"True Value\")\n",
    "plt.plot(pred, label=\"Predicted Value\")\n",
    "plt.legend(loc=\"upper left\")\n",
    "plt.show()\n",
    "\n"
   ]
  },
  {
   "cell_type": "code",
   "execution_count": null,
   "metadata": {},
   "outputs": [],
   "source": [
    "mean_absolute_error(test, pred)"
   ]
  }
 ],
 "metadata": {
  "kernelspec": {
   "display_name": "sts_env",
   "language": "python",
   "name": "python3"
  },
  "language_info": {
   "codemirror_mode": {
    "name": "ipython",
    "version": 3
   },
   "file_extension": ".py",
   "mimetype": "text/x-python",
   "name": "python",
   "nbconvert_exporter": "python",
   "pygments_lexer": "ipython3",
   "version": "3.10.0"
  }
 },
 "nbformat": 4,
 "nbformat_minor": 2
}
